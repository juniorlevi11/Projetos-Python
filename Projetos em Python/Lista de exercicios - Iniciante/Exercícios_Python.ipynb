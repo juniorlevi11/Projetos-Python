{
  "cells": [
    {
      "cell_type": "markdown",
      "source": [
        "1. Hello, World!\n",
        "\n",
        "Imprima \"Hello, World!\" no console."
      ],
      "metadata": {
        "id": "9ss8NEnhYInK"
      }
    },
    {
      "cell_type": "code",
      "source": [
        "print(\"Hello, World!\")"
      ],
      "metadata": {
        "id": "C6NZQHuPYbhP",
        "outputId": "b2a31bd2-70bf-4377-ba2b-9a5634fe4563",
        "colab": {
          "base_uri": "https://localhost:8080/"
        }
      },
      "execution_count": null,
      "outputs": [
        {
          "output_type": "stream",
          "name": "stdout",
          "text": [
            "Hello, World!\n"
          ]
        }
      ]
    },
    {
      "cell_type": "markdown",
      "source": [
        "2. Soma de Dois Números\n",
        "\n",
        "Crie um programa que peça ao usuário dois números e exiba a soma deles.\n"
      ],
      "metadata": {
        "id": "PLa8xSRdYiYj"
      }
    },
    {
      "cell_type": "code",
      "source": [
        "print(\"Digite o primeiro número:\")\n",
        "num1 = float(input())\n",
        "print(\"Digite o segundo número:\")\n",
        "num2 = float(input())\n",
        "soma = num1 + num2\n",
        "print(\"A soma dos números é:\", soma)"
      ],
      "metadata": {
        "id": "gqMb1qHnYol2",
        "outputId": "d68d0d9b-0493-4fe3-86f2-87b2af10263c",
        "colab": {
          "base_uri": "https://localhost:8080/"
        }
      },
      "execution_count": null,
      "outputs": [
        {
          "output_type": "stream",
          "name": "stdout",
          "text": [
            "Digite o primeiro número:\n",
            "3\n",
            "Digite o segundo número:\n",
            "5\n",
            "A soma dos números é: 8.0\n"
          ]
        }
      ]
    },
    {
      "cell_type": "markdown",
      "source": [
        "3. Cálculo da Área do Círculo\n",
        "\n",
        "Solicite o raio de um círculo e calcule sua área. Use a fórmula área = π * r²."
      ],
      "metadata": {
        "id": "rHaBgGOEYyZa"
      }
    },
    {
      "cell_type": "code",
      "source": [
        "print(\"Digite o raio do círculo:\")\n",
        "raio = float(input())\n",
        "area = 3.14 * (raio ** 2)\n",
        "print(\"A área do círculo é:\", area)"
      ],
      "metadata": {
        "id": "FsL8HBJrY4DM",
        "outputId": "1b9ef99f-c42f-47b3-d6a7-1381900753a0",
        "colab": {
          "base_uri": "https://localhost:8080/"
        }
      },
      "execution_count": null,
      "outputs": [
        {
          "output_type": "stream",
          "name": "stdout",
          "text": [
            "Digite o raio do círculo:\n",
            "25\n",
            "A área do círculo é: 1962.5\n"
          ]
        }
      ]
    },
    {
      "cell_type": "markdown",
      "source": [
        "4. Conversão de Temperatura\n",
        "\n",
        "Converta uma temperatura fornecida em Celsius para Fahrenheit usando a fórmula F = C * 9/5 + 32."
      ],
      "metadata": {
        "id": "RZjvKYpRZNML"
      }
    },
    {
      "cell_type": "code",
      "source": [
        "print(\"Digite a temperatura em Celsius:\")\n",
        "celsius = float(input())\n",
        "fahrenheit = (celsius * 9/5) + 32\n",
        "print(\"A temperatura em Fahrenheit é:\", fahrenheit)"
      ],
      "metadata": {
        "id": "xJSMolagZSHV",
        "outputId": "77edddb7-ddf2-45f1-b0f5-265979cb38f2",
        "colab": {
          "base_uri": "https://localhost:8080/"
        }
      },
      "execution_count": null,
      "outputs": [
        {
          "output_type": "stream",
          "name": "stdout",
          "text": [
            "Digite a temperatura em Celsius:\n",
            "23\n",
            "A temperatura em Fahrenheit é: 73.4\n"
          ]
        }
      ]
    },
    {
      "cell_type": "markdown",
      "source": [
        "5. Tabuada\n",
        "\n",
        "Crie um programa que imprima a tabuada de um número fornecido pelo usuário."
      ],
      "metadata": {
        "id": "1tzb_UCEjDsf"
      }
    },
    {
      "cell_type": "code",
      "source": [
        "print(\"Digite um número para a tabuada:\")\n",
        "numero = int(input())\n",
        "for i in range(1, 11):\n",
        "    print(numero, \"x\", i, \"=\", numero * i)"
      ],
      "metadata": {
        "id": "mcWFTp8NjKQj",
        "outputId": "4d7dc4e7-a298-4300-eb26-306e215ce65e",
        "colab": {
          "base_uri": "https://localhost:8080/"
        }
      },
      "execution_count": null,
      "outputs": [
        {
          "output_type": "stream",
          "name": "stdout",
          "text": [
            "Digite um número para a tabuada:\n",
            "12\n",
            "12 x 1 = 12\n",
            "12 x 2 = 24\n",
            "12 x 3 = 36\n",
            "12 x 4 = 48\n",
            "12 x 5 = 60\n",
            "12 x 6 = 72\n",
            "12 x 7 = 84\n",
            "12 x 8 = 96\n",
            "12 x 9 = 108\n",
            "12 x 10 = 120\n"
          ]
        }
      ]
    },
    {
      "cell_type": "markdown",
      "source": [
        "6. Números Pares\n",
        "\n",
        "Faça um programa que exiba todos os números pares de 1 a 20.\n"
      ],
      "metadata": {
        "id": "sDsqzRUGkTQW"
      }
    },
    {
      "cell_type": "code",
      "source": [
        "print(\"Números pares de 1 a 20:\")\n",
        "for numero in range(2, 21, 2):\n",
        "    print(numero)"
      ],
      "metadata": {
        "id": "WfC3VoKtkhHZ",
        "outputId": "918d3764-0cdd-4e31-f367-d89713794e8f",
        "colab": {
          "base_uri": "https://localhost:8080/"
        }
      },
      "execution_count": null,
      "outputs": [
        {
          "output_type": "stream",
          "name": "stdout",
          "text": [
            "Números pares de 1 a 20:\n",
            "2\n",
            "4\n",
            "6\n",
            "8\n",
            "10\n",
            "12\n",
            "14\n",
            "16\n",
            "18\n",
            "20\n"
          ]
        }
      ]
    },
    {
      "cell_type": "markdown",
      "source": [
        "7. Número Ímpar ou Par\n",
        "\n",
        "Solicite um número ao usuário e informe se ele é par ou ímpar."
      ],
      "metadata": {
        "id": "-ixas6whkwd3"
      }
    },
    {
      "cell_type": "code",
      "source": [
        "print(\"Digite um número:\")\n",
        "numero = int(input())\n",
        "if numero % 2 == 0:\n",
        "    print(\"O número é par.\")\n",
        "else:\n",
        "    print(\"O número é ímpar.\")"
      ],
      "metadata": {
        "id": "wfpvW-0hk1XJ",
        "outputId": "5bc09078-0637-4c01-f1cd-fa675dfd9557",
        "colab": {
          "base_uri": "https://localhost:8080/"
        }
      },
      "execution_count": null,
      "outputs": [
        {
          "output_type": "stream",
          "name": "stdout",
          "text": [
            "Digite um número:\n",
            "5\n",
            "O número é ímpar.\n"
          ]
        }
      ]
    },
    {
      "cell_type": "markdown",
      "source": [
        "8. Verificação de Palíndromo\n",
        "\n",
        "Crie um programa que verifique se uma palavra é um palíndromo (ex: \"radar\")."
      ],
      "metadata": {
        "id": "7QJBH7lGkCur"
      }
    },
    {
      "cell_type": "code",
      "source": [
        "print(\"Digite uma palavra:\")\n",
        "palavra = input()\n",
        "if palavra == palavra[::-1]:\n",
        "    print(\"A palavra é um palíndromo.\")\n",
        "else:\n",
        "    print(\"A palavra não é um palíndromo.\")"
      ],
      "metadata": {
        "id": "oKakkbBmbR9j",
        "outputId": "138f16a6-bb4f-4558-abc7-c60c76ccc6da",
        "colab": {
          "base_uri": "https://localhost:8080/"
        }
      },
      "execution_count": null,
      "outputs": [
        {
          "output_type": "stream",
          "name": "stdout",
          "text": [
            "Digite uma palavra:\n",
            "radar\n",
            "A palavra é um palíndromo.\n"
          ]
        }
      ]
    },
    {
      "cell_type": "markdown",
      "source": [
        "9. Fatorial de um Número\n",
        "\n",
        "Calcule o fatorial de um número fornecido pelo usuário."
      ],
      "metadata": {
        "id": "5URYnbuibe3K"
      }
    },
    {
      "cell_type": "code",
      "source": [
        "print(\"Digite um número:\")\n",
        "numero = int(input())\n",
        "fatorial = 1\n",
        "for i in range(1, numero + 1):\n",
        "    fatorial *= i\n",
        "print(\"O fatorial de\", numero, \"é:\", fatorial)"
      ],
      "metadata": {
        "id": "j685Ki8fbjLE",
        "outputId": "01addc05-8669-4e29-9696-92efa8f560f0",
        "colab": {
          "base_uri": "https://localhost:8080/"
        }
      },
      "execution_count": null,
      "outputs": [
        {
          "output_type": "stream",
          "name": "stdout",
          "text": [
            "Digite um número:\n",
            "20\n",
            "O fatorial de 20 é: 2432902008176640000\n"
          ]
        }
      ]
    },
    {
      "cell_type": "markdown",
      "source": [
        "10. Sequência de Fibonacci\n",
        "\n",
        "Imprima os primeiros 10 números da sequência de Fibonacci."
      ],
      "metadata": {
        "id": "naXneEFeb2sf"
      }
    },
    {
      "cell_type": "code",
      "source": [
        "print(\"Sequência de Fibonacci:\")\n",
        "a, b = 0, 1\n",
        "for i in range(10):\n",
        "    print(a)\n",
        "    a, b = b, a + b"
      ],
      "metadata": {
        "id": "v5vSjtwVb7Sv",
        "outputId": "d9156c78-5b74-4988-b92f-4f1642b9fa6e",
        "colab": {
          "base_uri": "https://localhost:8080/"
        }
      },
      "execution_count": null,
      "outputs": [
        {
          "output_type": "stream",
          "name": "stdout",
          "text": [
            "Sequência de Fibonacci:\n",
            "0\n",
            "1\n",
            "1\n",
            "2\n",
            "3\n",
            "5\n",
            "8\n",
            "13\n",
            "21\n",
            "34\n"
          ]
        }
      ]
    },
    {
      "cell_type": "markdown",
      "source": [
        "11. Lista de Números\n",
        "\n",
        "Crie uma lista de números e exiba o maior e o menor número."
      ],
      "metadata": {
        "id": "Z7sftC4bcuxs"
      }
    },
    {
      "cell_type": "code",
      "source": [
        "print(\"Digite uma lista de números separados por espaço:\")\n",
        "numeros = list(map(int, input().split()))\n",
        "maior = max(numeros)\n",
        "menor = min(numeros)\n",
        "print(\"O maior número é:\", maior)\n",
        "print(\"O menor número é:\", menor)"
      ],
      "metadata": {
        "id": "fs6P8gWmcyL5",
        "outputId": "d18c456c-0ea7-4c02-a2a1-3836e09fb019",
        "colab": {
          "base_uri": "https://localhost:8080/"
        }
      },
      "execution_count": null,
      "outputs": [
        {
          "output_type": "stream",
          "name": "stdout",
          "text": [
            "Digite uma lista de números separados por espaço:\n",
            "1 50\n",
            "O maior número é: 50\n",
            "O menor número é: 1\n"
          ]
        }
      ]
    },
    {
      "cell_type": "markdown",
      "source": [
        "12. Contagem de Caracteres\n",
        "\n",
        "Conte o número de ocorrências de cada caractere em uma string fornecida."
      ],
      "metadata": {
        "id": "4i1-IYGudDWg"
      }
    },
    {
      "cell_type": "code",
      "source": [
        "#solicita que o usuário digite uma string\n",
        "print(\"Digite uma string:\")\n",
        "string = input()\n",
        "#cria um dicionário para armazenar as contagens\n",
        "contagem = {}\n",
        "#conta as ocorrencias de cada caracter\n",
        "for caractere in string:\n",
        "    if caractere in contagem:\n",
        "        contagem[caractere] += 1\n",
        "    else:\n",
        "        contagem[caractere] = 1\n",
        "print(\"Contagem de caracteres:\")\n",
        "for caractere, quantidade in contagem.items():\n",
        "    print(f\"'{caractere}': {quantidade}\")"
      ],
      "metadata": {
        "id": "C6eCqveQedN3",
        "outputId": "9001f456-db80-4941-c78d-543cd25bc338",
        "colab": {
          "base_uri": "https://localhost:8080/"
        }
      },
      "execution_count": null,
      "outputs": [
        {
          "output_type": "stream",
          "name": "stdout",
          "text": [
            "Digite uma string:\n",
            "Flamengo\n",
            "Contagem de caracteres:\n",
            "'F': 1\n",
            "'l': 1\n",
            "'a': 1\n",
            "'m': 1\n",
            "'e': 1\n",
            "'n': 1\n",
            "'g': 1\n",
            "'o': 1\n"
          ]
        }
      ]
    },
    {
      "cell_type": "markdown",
      "source": [
        "13. Ordenação de Lista\n",
        "\n",
        "Dada uma lista de números, ordene-a em ordem crescente."
      ],
      "metadata": {
        "id": "Qos0rkkRfuHg"
      }
    },
    {
      "cell_type": "code",
      "source": [
        "print(\"Digite uma lista de números separados por espaço:\")\n",
        "numeros = list(map(int, input().split()))\n",
        "numeros.sort()\n",
        "print(\"Lista ordenada:\", numeros)"
      ],
      "metadata": {
        "id": "7jTuM3TsfyTj",
        "outputId": "b04a74f1-1d22-45bf-bef1-336bc25175d9",
        "colab": {
          "base_uri": "https://localhost:8080/"
        }
      },
      "execution_count": null,
      "outputs": [
        {
          "output_type": "stream",
          "name": "stdout",
          "text": [
            "Digite uma lista de números separados por espaço:\n",
            "1 6 9 7 3 4 6 8 2\n",
            "Lista ordenada: [1, 2, 3, 4, 6, 6, 7, 8, 9]\n"
          ]
        }
      ]
    },
    {
      "cell_type": "markdown",
      "source": [
        "14. Soma dos Elementos de uma Lista\n",
        "\n",
        "Calcule a soma de todos os elementos em uma lista."
      ],
      "metadata": {
        "id": "vBdtZliqf9vM"
      }
    },
    {
      "cell_type": "code",
      "source": [
        "print(\"Digite uma lista de números separados por espaço:\")\n",
        "numeros = list(map(int, input().split()))\n",
        "soma = sum(numeros)\n",
        "print(\"A soma dos elementos é:\", soma)"
      ],
      "metadata": {
        "id": "XGgi5q06gCHP",
        "outputId": "d754567c-9a6f-4357-f456-daf1f189dc34",
        "colab": {
          "base_uri": "https://localhost:8080/"
        }
      },
      "execution_count": null,
      "outputs": [
        {
          "output_type": "stream",
          "name": "stdout",
          "text": [
            "Digite uma lista de números separados por espaço:\n",
            "10 63 24 88\n",
            "A soma dos elementos é: 185\n"
          ]
        }
      ]
    },
    {
      "cell_type": "markdown",
      "source": [
        "15. Média de uma Lista\n",
        "\n",
        "Calcule a média dos números em uma lista."
      ],
      "metadata": {
        "id": "i5kpSkvmhcXL"
      }
    },
    {
      "cell_type": "code",
      "source": [
        "print(\"Digite uma lista de números separados por espaço:\")\n",
        "numeros = list(map(int, input().split()))\n",
        "media = sum(numeros) / len(numeros)\n",
        "print(\"A média dos números é:\", media)"
      ],
      "metadata": {
        "id": "_60DL2hHhhGj",
        "outputId": "3f5de139-09cd-4f3b-95f4-d7ac1336ba79",
        "colab": {
          "base_uri": "https://localhost:8080/"
        }
      },
      "execution_count": null,
      "outputs": [
        {
          "output_type": "stream",
          "name": "stdout",
          "text": [
            "Digite uma lista de números separados por espaço:\n",
            "20 54 72\n",
            "A média dos números é: 48.666666666666664\n"
          ]
        }
      ]
    },
    {
      "cell_type": "markdown",
      "source": [
        "16. Manipulação de Strings\n",
        "\n",
        "Crie um programa que inverta uma string fornecida pelo usuário."
      ],
      "metadata": {
        "id": "hHPSuLG8huli"
      }
    },
    {
      "cell_type": "code",
      "source": [
        "print(\"Digite uma string:\")\n",
        "string = input()\n",
        "string_invertida = string[::-1]\n",
        "print(\"String invertida:\", string_invertida)"
      ],
      "metadata": {
        "id": "dKH0d-j2hx_o",
        "outputId": "b8bf7d66-5ca8-4ba0-b2a1-28b824fce824",
        "colab": {
          "base_uri": "https://localhost:8080/"
        }
      },
      "execution_count": null,
      "outputs": [
        {
          "output_type": "stream",
          "name": "stdout",
          "text": [
            "Digite uma string:\n",
            "Eu amo o Brasil\n",
            "String invertida: lisarB o oma uE\n"
          ]
        }
      ]
    },
    {
      "cell_type": "markdown",
      "source": [
        "17. Dicionário de Contagem de Palavras\n",
        "\n",
        "Conte a frequência de cada palavra em uma string fornecida pelo usuário."
      ],
      "metadata": {
        "id": "KZNW8Mbgh5fl"
      }
    },
    {
      "cell_type": "code",
      "source": [
        "print(\"Digite uma string:\")\n",
        "string = input()\n",
        "\n",
        "palavras = string.split()\n",
        "\n",
        "contagem = {}\n",
        "\n",
        "for palavra in palavras:\n",
        "    if palavra in contagem:\n",
        "        contagem[palavra] += 1\n",
        "    else:\n",
        "        contagem[palavra] = 1\n",
        "\n",
        "print(\"Contagem de palavras:\")\n",
        "for palavra, quantidade in contagem.items():\n",
        "    print(f\"'{palavra}': {quantidade}\")\n"
      ],
      "metadata": {
        "id": "qr3mQd9ziBeb",
        "outputId": "6926e207-4eef-4734-9f49-d3a6cb093157",
        "colab": {
          "base_uri": "https://localhost:8080/"
        }
      },
      "execution_count": null,
      "outputs": [
        {
          "output_type": "stream",
          "name": "stdout",
          "text": [
            "Digite uma string:\n",
            "Flamengo será campeão da Liberta!\n",
            "Contagem de palavras:\n",
            "'Flamengo': 1\n",
            "'será': 1\n",
            "'campeão': 1\n",
            "'da': 1\n",
            "'Liberta!': 1\n"
          ]
        }
      ]
    },
    {
      "cell_type": "markdown",
      "source": [
        "18. Número Primo\n",
        "\n",
        "Crie um programa que verifique se um número fornecido é primo."
      ],
      "metadata": {
        "id": "jJbZcavJi0DZ"
      }
    },
    {
      "cell_type": "code",
      "source": [
        "print(\"Digite um número:\")\n",
        "numero = int(input())\n",
        "if numero < 2:\n",
        "    print(\"O número não é primo.\")\n",
        "else:\n",
        "    for i in range(2, int(numero ** 0.5) + 1):\n",
        "        if numero % i == 0:\n",
        "            print(\"O número não é primo.\")\n",
        "            break\n",
        "    else:\n",
        "        print(\"O número é primo.\")"
      ],
      "metadata": {
        "id": "ZK5cts7pi4V4",
        "outputId": "09233510-28b1-4130-f148-fd8a1340be8f",
        "colab": {
          "base_uri": "https://localhost:8080/"
        }
      },
      "execution_count": null,
      "outputs": [
        {
          "output_type": "stream",
          "name": "stdout",
          "text": [
            "Digite um número:\n",
            "11\n",
            "O número é primo.\n"
          ]
        }
      ]
    },
    {
      "cell_type": "markdown",
      "source": [
        "19. Jogo de Adivinhação\n",
        "\n",
        "Implemente um jogo onde o usuário deve adivinhar um número gerado aleatoriamente pelo computador.\n"
      ],
      "metadata": {
        "id": "1c5tOHIhjaSy"
      }
    },
    {
      "cell_type": "code",
      "source": [
        "import random\n",
        "\n",
        "def jogo_adivinhacao():\n",
        "    numero_aleatorio = random.randint(1, 100)\n",
        "    tentativas = 0\n",
        "\n",
        "    print(\"Tente adivinhar o número que estou pensando, entre 1 e 100.\")\n",
        "\n",
        "    while True:\n",
        "        try:\n",
        "            palpite = int(input(\"Digite seu palpite: \"))\n",
        "            tentativas += 1\n",
        "\n",
        "            if palpite < 1 or palpite > 100:\n",
        "                print(\"Por favor, digite um número entre 1 e 100.\")\n",
        "            elif palpite < numero_aleatorio:\n",
        "                print(\"Muito baixo! Tente novamente.\")\n",
        "            elif palpite > numero_aleatorio:\n",
        "                print(\"Muito alto! Tente novamente.\")\n",
        "            else:\n",
        "                print(f\"Parabéns! Você acertou o número em {tentativas} tentativas.\")\n",
        "                break\n",
        "        except ValueError:\n",
        "            print(\"Entrada inválida. Por favor, digite um número inteiro.\")\n",
        "\n",
        "jogo_adivinhacao()\n"
      ],
      "metadata": {
        "id": "4_v40Mgaji3W",
        "outputId": "1233567b-8048-424b-a958-d10c522cc658",
        "colab": {
          "base_uri": "https://localhost:8080/"
        }
      },
      "execution_count": null,
      "outputs": [
        {
          "output_type": "stream",
          "name": "stdout",
          "text": [
            "Tente adivinhar o número que estou pensando, entre 1 e 100.\n",
            "Digite seu palpite: 10\n",
            "Muito baixo! Tente novamente.\n",
            "Digite seu palpite: 55\n",
            "Muito alto! Tente novamente.\n",
            "Digite seu palpite: 40\n",
            "Muito alto! Tente novamente.\n",
            "Digite seu palpite: 25\n",
            "Muito baixo! Tente novamente.\n",
            "Digite seu palpite: 30\n",
            "Muito alto! Tente novamente.\n",
            "Digite seu palpite: 27\n",
            "Muito baixo! Tente novamente.\n",
            "Digite seu palpite: 28\n",
            "Muito baixo! Tente novamente.\n",
            "Digite seu palpite: 29\n",
            "Parabéns! Você acertou o número em 8 tentativas.\n"
          ]
        }
      ]
    },
    {
      "cell_type": "markdown",
      "source": [
        "20. Matriz Transposta\n",
        "\n",
        "Dada uma matriz (lista de listas), crie sua matriz transposta."
      ],
      "metadata": {
        "id": "DyFfgXvJCp-i"
      }
    },
    {
      "cell_type": "code",
      "source": [
        "def transpor_matriz(matriz):\n",
        "    if not matriz or not matriz[0]:\n",
        "        return []\n",
        "\n",
        "    matriz_transposta = [[linha[i] for linha in matriz] for i in range(len(matriz[0]))]\n",
        "\n",
        "    return matriz_transposta\n",
        "\n",
        "matriz = [\n",
        "    [1, 2, 3],\n",
        "    [4, 5, 6],\n",
        "    [7, 8, 9]\n",
        "]\n",
        "\n",
        "print(\"Matriz Original:\")\n",
        "for linha in matriz:\n",
        "    print(linha)\n",
        "\n",
        "matriz_transposta = transpor_matriz(matriz)\n",
        "\n",
        "print(\"\\nMatriz Transposta:\")\n",
        "for linha in matriz_transposta:\n",
        "    print(linha)\n"
      ],
      "metadata": {
        "id": "EnZlPHCvCuol",
        "outputId": "7eed19de-e565-47a1-f8e0-8ce7c0b3e864",
        "colab": {
          "base_uri": "https://localhost:8080/"
        }
      },
      "execution_count": null,
      "outputs": [
        {
          "output_type": "stream",
          "name": "stdout",
          "text": [
            "Matriz Original:\n",
            "[1, 2, 3]\n",
            "[4, 5, 6]\n",
            "[7, 8, 9]\n",
            "\n",
            "Matriz Transposta:\n",
            "[1, 4, 7]\n",
            "[2, 5, 8]\n",
            "[3, 6, 9]\n"
          ]
        }
      ]
    },
    {
      "cell_type": "markdown",
      "source": [
        "21. Busca Binária\n",
        "\n",
        "Implemente a busca binária para encontrar um elemento em uma lista ordenada."
      ],
      "metadata": {
        "id": "3EQUdBrVDbPt"
      }
    },
    {
      "cell_type": "code",
      "source": [
        "def busca_binaria(lista, alvo):\n",
        "    esquerda = 0\n",
        "    direita = len(lista) - 1\n",
        "\n",
        "    while esquerda <= direita:\n",
        "        meio = (esquerda + direita) // 2\n",
        "\n",
        "        if lista[meio] == alvo:\n",
        "            return meio\n",
        "\n",
        "        elif lista[meio] < alvo:\n",
        "            esquerda = meio + 1\n",
        "\n",
        "        else:\n",
        "            direita = meio - 1\n",
        "\n",
        "    return -1\n",
        "\n",
        "lista_ordenada = [2, 4, 6, 8, 10, 12, 14, 16, 18, 20]\n",
        "alvo = 14\n",
        "\n",
        "resultado = busca_binaria(lista_ordenada, alvo)\n",
        "\n",
        "if resultado != -1:\n",
        "    print(f\"Elemento {alvo} encontrado no índice {resultado}.\")\n",
        "else:\n",
        "    print(f\"Elemento {alvo} não encontrado na lista.\")\n"
      ],
      "metadata": {
        "id": "dVDN4s--DcXy",
        "outputId": "eac69e31-2f75-44d5-d7ea-f238cd2fcb09",
        "colab": {
          "base_uri": "https://localhost:8080/"
        }
      },
      "execution_count": null,
      "outputs": [
        {
          "output_type": "stream",
          "name": "stdout",
          "text": [
            "Elemento 14 encontrado no índice 6.\n"
          ]
        }
      ]
    },
    {
      "cell_type": "markdown",
      "source": [
        "22. Criptografia de Cifra de César\n",
        "\n",
        "Crie uma função para criptografar uma mensagem usando a cifra de César."
      ],
      "metadata": {
        "id": "8XvaSd-bIhCD"
      }
    },
    {
      "cell_type": "code",
      "source": [
        "def cifra_de_cesar(mensagem, deslocamento):\n",
        "    mensagem_criptografada = \"\"\n",
        "\n",
        "    for caractere in mensagem:\n",
        "        if caractere.isalpha():\n",
        "            ponto_partida = ord('A') if caractere.isupper() else ord('a')\n",
        "\n",
        "            novo_caractere = chr((ord(caractere) - ponto_partida + deslocamento) % 26 + ponto_partida)\n",
        "            mensagem_criptografada += novo_caractere\n",
        "        else:\n",
        "            mensagem_criptografada += caractere\n",
        "\n",
        "    return mensagem_criptografada\n",
        "\n",
        "mensagem_original = \"Flamengo campeão\"\n",
        "deslocamento = 3\n",
        "\n",
        "mensagem_criptografada = cifra_de_cesar(mensagem_original, deslocamento)\n",
        "print(f\"Mensagem original: {mensagem_original}\")\n",
        "print(f\"Mensagem criptografada: {mensagem_criptografada}\")\n"
      ],
      "metadata": {
        "id": "7WaG8Y0EI1bi",
        "outputId": "86ed844d-598c-455c-9b7b-8a5874199b43",
        "colab": {
          "base_uri": "https://localhost:8080/"
        }
      },
      "execution_count": null,
      "outputs": [
        {
          "output_type": "stream",
          "name": "stdout",
          "text": [
            "Mensagem original: Flamengo campeão\n",
            "Mensagem criptografada: Iodphqjr fdpshdr\n"
          ]
        }
      ]
    },
    {
      "cell_type": "markdown",
      "source": [
        "23. Descriptografar Cifra de César\n",
        "\n",
        "Crie uma função para descriptografar uma mensagem cifrada com a cifra de César."
      ],
      "metadata": {
        "id": "MigtyoOCJv1s"
      }
    },
    {
      "cell_type": "code",
      "source": [
        "def descriptografar_cifra_de_cesar(mensagem_criptografada, deslocamento):\n",
        "    mensagem_descriptografada = \"\"\n",
        "\n",
        "    for caractere in mensagem_criptografada:\n",
        "        if caractere.isalpha():\n",
        "            ponto_partida = ord('A') if caractere.isupper() else ord('a')\n",
        "\n",
        "            novo_caractere = chr((ord(caractere) - ponto_partida - deslocamento) % 26 + ponto_partida)\n",
        "            mensagem_descriptografada += novo_caractere\n",
        "        else:\n",
        "            mensagem_descriptografada += caractere\n",
        "\n",
        "    return mensagem_descriptografada\n",
        "\n",
        "\n",
        "print(\"Digite a mensagem criptografada:\")\n",
        "mensagem_criptografada = input()\n",
        "\n",
        "print(\"Digite o deslocamento utilizado na criptografia:\")\n",
        "deslocamento = int(input())\n",
        "\n",
        "mensagem_descriptografada = descriptografar_cifra_de_cesar(mensagem_criptografada, deslocamento)\n",
        "\n",
        "print(f\"Mensagem descriptografada: {mensagem_descriptografada}\")\n"
      ],
      "metadata": {
        "id": "vYSE-lSWJ0_Q",
        "outputId": "34b2aac0-3689-490d-fb5b-d76f193aace8",
        "colab": {
          "base_uri": "https://localhost:8080/"
        }
      },
      "execution_count": null,
      "outputs": [
        {
          "output_type": "stream",
          "name": "stdout",
          "text": [
            "Digite a mensagem criptografada:\n",
            "Iodphqjr fdpshdr\n",
            "Digite o deslocamento utilizado na criptografia:\n",
            "3\n",
            "Mensagem descriptografada: Flamengo campeao\n"
          ]
        }
      ]
    },
    {
      "cell_type": "markdown",
      "source": [
        "24. Validação de CPF\n",
        "\n",
        "Implemente uma função para validar um CPF brasileiro."
      ],
      "metadata": {
        "id": "LFal-HgGLHvv"
      }
    },
    {
      "cell_type": "code",
      "source": [
        "def validar_cpf(cpf):\n",
        "    cpf = ''.join(filter(str.isdigit, cpf))\n",
        "\n",
        "    if len(cpf) != 11:\n",
        "        return False\n",
        "\n",
        "    if cpf == cpf[0] * len(cpf):\n",
        "        return False\n",
        "\n",
        "    soma = 0\n",
        "    for i in range(9):\n",
        "        soma += int(cpf[i]) * (10 - i)\n",
        "    primeiro_digito_verificador = (soma * 10 % 11) % 10\n",
        "\n",
        "    soma = 0\n",
        "    for i in range(10):\n",
        "        soma += int(cpf[i]) * (11 - i)\n",
        "    segundo_digito_verificador = (soma * 10 % 11) % 10\n",
        "\n",
        "    if cpf[-2:] == f\"{primeiro_digito_verificador}{segundo_digito_verificador}\":\n",
        "        return True\n",
        "    else:\n",
        "        return False\n",
        "\n",
        "cpf = input(\"Digite o CPF para validar (apenas números ou com formatação): \")\n",
        "if validar_cpf(cpf):\n",
        "    print(\"CPF válido.\")\n",
        "else:\n",
        "    print(\"CPF inválido.\")\n"
      ],
      "metadata": {
        "id": "QekQB_T1LLfP",
        "outputId": "f697bda8-75ab-43d6-fe2f-46cf1c7a75be",
        "colab": {
          "base_uri": "https://localhost:8080/"
        }
      },
      "execution_count": null,
      "outputs": [
        {
          "output_type": "stream",
          "name": "stdout",
          "text": [
            "Digite o CPF para validar (apenas números ou com formatação): 123.456.789-09\n",
            "CPF válido.\n"
          ]
        }
      ]
    },
    {
      "cell_type": "markdown",
      "source": [
        "25. Classificação de Números\n",
        "\n",
        "Classifique uma lista de números em três categorias: positivos, negativos e zeros."
      ],
      "metadata": {
        "id": "fVE4ulRYPwi2"
      }
    },
    {
      "cell_type": "code",
      "source": [
        "def classificar_numeros(lista_numeros):\n",
        "    positivos = []\n",
        "    negativos = []\n",
        "    zeros = []\n",
        "\n",
        "    for numero in lista_numeros:\n",
        "        if numero > 0:\n",
        "            positivos.append(numero)\n",
        "        elif numero < 0:\n",
        "            negativos.append(numero)\n",
        "        else:\n",
        "            zeros.append(numero)\n",
        "\n",
        "    return positivos, negativos, zeros\n",
        "\n",
        "entrada = input(\"Digite uma lista de números separados por espaço: \")\n",
        "lista_numeros = list(map(int, entrada.split()))\n",
        "\n",
        "positivos, negativos, zeros = classificar_numeros(lista_numeros)\n",
        "\n",
        "print(\"Números positivos:\", positivos)\n",
        "print(\"Números negativos:\", negativos)\n",
        "print(\"Zeros:\", zeros)\n"
      ],
      "metadata": {
        "id": "vyqk_OwkP0ip",
        "outputId": "f8397891-e3b4-48d5-cd47-606513034aa3",
        "colab": {
          "base_uri": "https://localhost:8080/"
        }
      },
      "execution_count": null,
      "outputs": [
        {
          "output_type": "stream",
          "name": "stdout",
          "text": [
            "Digite uma lista de números separados por espaço: 10 -55 06\n",
            "Números positivos: [10, 6]\n",
            "Números negativos: [-55]\n",
            "Zeros: []\n"
          ]
        }
      ]
    },
    {
      "cell_type": "markdown",
      "source": [
        "26. Calculadora Simples\n",
        "\n",
        "Crie uma calculadora que possa realizar adição, subtração, multiplicação e divisão."
      ],
      "metadata": {
        "id": "8qWbpcHAQZK1"
      }
    },
    {
      "cell_type": "code",
      "source": [
        "def calculadora_simples():\n",
        "    print(\"Operações disponíveis:\")\n",
        "    print(\"1. Adição\")\n",
        "    print(\"2. Subtração\")\n",
        "    print(\"3. Multiplicação\")\n",
        "    print(\"4. Divisão\")\n",
        "\n",
        "    operacao = input(\"Escolha uma operação (1/2/3/4): \")\n",
        "\n",
        "    numero1 = float(input(\"Digite o primeiro número: \"))\n",
        "    numero2 = float(input(\"Digite o segundo número: \"))\n",
        "\n",
        "    if operacao == '1':\n",
        "        resultado = numero1 + numero2\n",
        "        print(f\"O resultado da adição é: {resultado}\")\n",
        "    elif operacao == '2':\n",
        "        resultado = numero1 - numero2\n",
        "        print(f\"O resultado da subtração é: {resultado}\")\n",
        "    elif operacao == '3':\n",
        "        resultado = numero1 * numero2\n",
        "        print(f\"O resultado da multiplicação é: {resultado}\")\n",
        "    elif operacao == '4':\n",
        "        if numero2 != 0:\n",
        "            resultado = numero1 / numero2\n",
        "            print(f\"O resultado da divisão é: {resultado}\")\n",
        "        else:\n",
        "            print(\"Erro: Divisão por zero não é permitida.\")\n",
        "    else:\n",
        "        print(\"Operação inválida. Por favor, escolha uma operação válida.\")\n",
        "\n",
        "calculadora_simples()\n"
      ],
      "metadata": {
        "id": "KA8n058fQf39",
        "outputId": "f729516f-5423-461a-ba3a-734dcc6635d7",
        "colab": {
          "base_uri": "https://localhost:8080/"
        }
      },
      "execution_count": null,
      "outputs": [
        {
          "output_type": "stream",
          "name": "stdout",
          "text": [
            "Operações disponíveis:\n",
            "1. Adição\n",
            "2. Subtração\n",
            "3. Multiplicação\n",
            "4. Divisão\n",
            "Escolha uma operação (1/2/3/4): 4\n",
            "Digite o primeiro número: 80\n",
            "Digite o segundo número: 4\n",
            "O resultado da divisão é: 20.0\n"
          ]
        }
      ]
    },
    {
      "cell_type": "markdown",
      "source": [
        "27. Anagramas\n",
        "\n",
        "Verifique se duas palavras são anagramas (ou seja, se são formadas pelas mesmas letras)."
      ],
      "metadata": {
        "id": "VbbqfcoSQ2dl"
      }
    },
    {
      "cell_type": "code",
      "source": [
        "def sao_anagramas(palavra1, palavra2):\n",
        "    return sorted(palavra1) == sorted(palavra2)\n",
        "\n",
        "palavra1 = input(\"Digite a primeira palavra: \")\n",
        "palavra2 = input(\"Digite a segunda palavra: \")\n",
        "\n",
        "if sao_anagramas(palavra1, palavra2):\n",
        "    print(\"As palavras são anagramas.\")\n",
        "else:\n",
        "    print(\"As palavras não são anagramas.\")\n"
      ],
      "metadata": {
        "id": "p1v7nscyQ69g",
        "outputId": "c485bfc1-73da-4381-8114-fd299764e3b5",
        "colab": {
          "base_uri": "https://localhost:8080/"
        }
      },
      "execution_count": null,
      "outputs": [
        {
          "output_type": "stream",
          "name": "stdout",
          "text": [
            "Digite a primeira palavra: flamengo\n",
            "Digite a segunda palavra: flomange\n",
            "As palavras são anagramas.\n"
          ]
        }
      ]
    },
    {
      "cell_type": "markdown",
      "source": [
        "28. Gráfico de Barras\n",
        "\n",
        "Use a biblioteca matplotlib para criar um gráfico de barras com dados fornecidos pelo usuário."
      ],
      "metadata": {
        "id": "TN_P7QaXRiLr"
      }
    },
    {
      "cell_type": "code",
      "source": [
        "import matplotlib.pyplot as plt\n",
        "\n",
        "rotulos = input(\"Digite os rótulos das barras separados por vírgula: \").split(',')\n",
        "valores = list(map(float, input(\"Digite os valores correspondentes separados por vírgula: \").split(',')))\n",
        "\n",
        "plt.bar(rotulos, valores)\n",
        "\n",
        "plt.title('Gráfico de Barras')\n",
        "plt.xlabel('Rótulos')\n",
        "plt.ylabel('Valores')\n",
        "\n",
        "plt.show()\n"
      ],
      "metadata": {
        "id": "QnAQlTTERs77",
        "outputId": "8534b05f-4c35-4e3c-9172-73cf953335b6",
        "colab": {
          "base_uri": "https://localhost:8080/",
          "height": 507
        }
      },
      "execution_count": null,
      "outputs": [
        {
          "name": "stdout",
          "output_type": "stream",
          "text": [
            "Digite os rótulos das barras separados por vírgula: A,B,C,D\n",
            "Digite os valores correspondentes separados por vírgula: 10,85,74,35\n"
          ]
        },
        {
          "output_type": "display_data",
          "data": {
            "text/plain": [
              "<Figure size 640x480 with 1 Axes>"
            ],
            "image/png": "[encoded data removed]"
          },
          "metadata": {}
        }
      ]
    },
    {
      "cell_type": "markdown",
      "source": [
        "29. Números FizzBuzz\n",
        "\n",
        "Implemente o clássico problema FizzBuzz para números de 1 a 100."
      ],
      "metadata": {
        "id": "exMzWtMZR_l_"
      }
    },
    {
      "cell_type": "code",
      "source": [
        "for i in range(1, 101):\n",
        "    if i % 15 == 0:\n",
        "        print(\"FizzBuzz\")\n",
        "    elif i % 3 == 0:\n",
        "        print(\"Fizz\")\n",
        "    elif i % 5 == 0:\n",
        "        print(\"Buzz\")\n",
        "    else:\n",
        "        print(i)\n"
      ],
      "metadata": {
        "id": "bM8hos3XR-3B",
        "outputId": "d5d3e123-fab3-4f2d-eea2-0365c73ef6b7",
        "colab": {
          "base_uri": "https://localhost:8080/"
        }
      },
      "execution_count": null,
      "outputs": [
        {
          "output_type": "stream",
          "name": "stdout",
          "text": [
            "1\n",
            "2\n",
            "Fizz\n",
            "4\n",
            "Buzz\n",
            "Fizz\n",
            "7\n",
            "8\n",
            "Fizz\n",
            "Buzz\n",
            "11\n",
            "Fizz\n",
            "13\n",
            "14\n",
            "FizzBuzz\n",
            "16\n",
            "17\n",
            "Fizz\n",
            "19\n",
            "Buzz\n",
            "Fizz\n",
            "22\n",
            "23\n",
            "Fizz\n",
            "Buzz\n",
            "26\n",
            "Fizz\n",
            "28\n",
            "29\n",
            "FizzBuzz\n",
            "31\n",
            "32\n",
            "Fizz\n",
            "34\n",
            "Buzz\n",
            "Fizz\n",
            "37\n",
            "38\n",
            "Fizz\n",
            "Buzz\n",
            "41\n",
            "Fizz\n",
            "43\n",
            "44\n",
            "FizzBuzz\n",
            "46\n",
            "47\n",
            "Fizz\n",
            "49\n",
            "Buzz\n",
            "Fizz\n",
            "52\n",
            "53\n",
            "Fizz\n",
            "Buzz\n",
            "56\n",
            "Fizz\n",
            "58\n",
            "59\n",
            "FizzBuzz\n",
            "61\n",
            "62\n",
            "Fizz\n",
            "64\n",
            "Buzz\n",
            "Fizz\n",
            "67\n",
            "68\n",
            "Fizz\n",
            "Buzz\n",
            "71\n",
            "Fizz\n",
            "73\n",
            "74\n",
            "FizzBuzz\n",
            "76\n",
            "77\n",
            "Fizz\n",
            "79\n",
            "Buzz\n",
            "Fizz\n",
            "82\n",
            "83\n",
            "Fizz\n",
            "Buzz\n",
            "86\n",
            "Fizz\n",
            "88\n",
            "89\n",
            "FizzBuzz\n",
            "91\n",
            "92\n",
            "Fizz\n",
            "94\n",
            "Buzz\n",
            "Fizz\n",
            "97\n",
            "98\n",
            "Fizz\n",
            "Buzz\n"
          ]
        }
      ]
    },
    {
      "cell_type": "markdown",
      "source": [],
      "metadata": {
        "id": "TLCSnCXnR-YJ"
      }
    },
    {
      "cell_type": "markdown",
      "source": [
        "30. Jogo da Forca\n",
        "\n",
        "Desenvolva um jogo simples da forca onde o usuário deve adivinhar uma palavra."
      ],
      "metadata": {
        "id": "UArLyp_SSYzb"
      }
    },
    {
      "cell_type": "code",
      "source": [
        "import random\n",
        "\n",
        "def jogo_da_forca():\n",
        "    palavras = [\"flamengo campeao\"]\n",
        "    palavra = random.choice(palavras)\n",
        "    letras_adivinhadas = set()\n",
        "    tentativas = 6\n",
        "    palavra_oculta = \"_\" * len(palavra)\n",
        "\n",
        "    print(\"Bem-vindo ao Jogo da Forca!\")\n",
        "    print(\"Tente adivinhar a palavra.\")\n",
        "\n",
        "    while tentativas > 0 and \"_\" in palavra_oculta:\n",
        "        print(\"\\nPalavra: \" + \" \".join(palavra_oculta))\n",
        "        print(f\"Tentativas restantes: {tentativas}\")\n",
        "\n",
        "        letra = input(\"Digite uma letra: \").lower()\n",
        "\n",
        "        if letra in letras_adivinhadas:\n",
        "            print(\"Você já tentou essa letra.\")\n",
        "            continue\n",
        "\n",
        "        if letra in palavra:\n",
        "            letras_adivinhadas.add(letra)\n",
        "            palavra_oculta = \"\".join(\n",
        "                letra if letra in letras_adivinhadas else \"_\" for letra in palavra\n",
        "            )\n",
        "        else:\n",
        "            tentativas -= 1\n",
        "\n",
        "        if \"_\" not in palavra_oculta:\n",
        "            print(\"\\nParabéns! Você adivinhou a palavra:\", palavra)\n",
        "            break\n",
        "    else:\n",
        "        print(\"\\nVocê perdeu! A palavra era:\", palavra)\n",
        "\n",
        "jogo_da_forca()\n"
      ],
      "metadata": {
        "id": "CN9vroeASeKO",
        "outputId": "b9889b2e-84b6-48f5-c3b8-3210e8c57ebd",
        "colab": {
          "base_uri": "https://localhost:8080/"
        }
      },
      "execution_count": null,
      "outputs": [
        {
          "output_type": "stream",
          "name": "stdout",
          "text": [
            "Bem-vindo ao Jogo da Forca!\n",
            "Tente adivinhar a palavra.\n",
            "\n",
            "Palavra: _ _ _ _ _ _ _ _ _ _ _ _ _ _ _ _\n",
            "Tentativas restantes: 6\n",
            "Digite uma letra: f\n",
            "\n",
            "Palavra: f _ _ _ _ _ _ _ _ _ _ _ _ _ _ _\n",
            "Tentativas restantes: 6\n",
            "Digite uma letra: l\n",
            "\n",
            "Palavra: f l _ _ _ _ _ _ _ _ _ _ _ _ _ _\n",
            "Tentativas restantes: 6\n",
            "Digite uma letra: a\n",
            "\n",
            "Palavra: f l a _ _ _ _ _ _ _ a _ _ _ a _\n",
            "Tentativas restantes: 6\n",
            "Digite uma letra: m\n",
            "\n",
            "Palavra: f l a m _ _ _ _ _ _ a m _ _ a _\n",
            "Tentativas restantes: 6\n",
            "Digite uma letra: e\n",
            "\n",
            "Palavra: f l a m e _ _ _ _ _ a m _ e a _\n",
            "Tentativas restantes: 6\n",
            "Digite uma letra: n\n",
            "\n",
            "Palavra: f l a m e n _ _ _ _ a m _ e a _\n",
            "Tentativas restantes: 6\n",
            "Digite uma letra: g\n",
            "\n",
            "Palavra: f l a m e n g _ _ _ a m _ e a _\n",
            "Tentativas restantes: 6\n",
            "Digite uma letra: o\n",
            "\n",
            "Palavra: f l a m e n g o _ _ a m _ e a o\n",
            "Tentativas restantes: 6\n",
            "Digite uma letra: c\n",
            "\n",
            "Palavra: f l a m e n g o _ c a m _ e a o\n",
            "Tentativas restantes: 6\n",
            "Digite uma letra: p\n",
            "\n",
            "Palavra: f l a m e n g o _ c a m p e a o\n",
            "Tentativas restantes: 6\n",
            "Digite uma letra:  \n",
            "\n",
            "Parabéns! Você adivinhou a palavra: flamengo campeao\n"
          ]
        }
      ]
    },
    {
      "cell_type": "markdown",
      "source": [
        "31. Ordenação por Bolha\n",
        "\n",
        "Implemente o algoritmo de ordenação por bolha (Bubble Sort)."
      ],
      "metadata": {
        "id": "ipzFOve4ThD6"
      }
    },
    {
      "cell_type": "code",
      "source": [
        "def bubble_sort(lista):\n",
        "    n = len(lista)\n",
        "    for i in range(n):\n",
        "        for j in range(0, n - i - 1):\n",
        "            if lista[j] > lista[j + 1]:\n",
        "                lista[j], lista[j + 1] = lista[j + 1], lista[j]\n",
        "    return lista\n",
        "\n",
        "entrada = input(\"Digite uma lista de números separados por espaço: \")\n",
        "lista = list(map(int, entrada.split()))\n",
        "\n",
        "print(\"Lista original:\", lista)\n",
        "\n",
        "lista_ordenada = bubble_sort(lista)\n",
        "\n",
        "print(\"Lista ordenada:\", lista_ordenada)\n"
      ],
      "metadata": {
        "id": "idPWM8EsU6vx",
        "outputId": "278e243f-5f21-4666-cd6f-ab4125ed42ef",
        "colab": {
          "base_uri": "https://localhost:8080/"
        }
      },
      "execution_count": null,
      "outputs": [
        {
          "output_type": "stream",
          "name": "stdout",
          "text": [
            "Digite uma lista de números separados por espaço: 10 5 89 62 2 5 21\n",
            "Lista original: [10, 5, 89, 62, 2, 5, 21]\n",
            "Lista ordenada: [2, 5, 5, 10, 21, 62, 89]\n"
          ]
        }
      ]
    },
    {
      "cell_type": "markdown",
      "source": [
        "32. Jogo da Velha\n",
        "\n",
        "Crie um jogo da velha para dois jogadores."
      ],
      "metadata": {
        "id": "HNwgZBmvV_Hy"
      }
    },
    {
      "cell_type": "code",
      "source": [
        "def exibir_tabuleiro(tabuleiro):\n",
        "    for linha in tabuleiro:\n",
        "        print(\" | \".join(linha))\n",
        "        print(\"-\" * 10)\n",
        "\n",
        "def verificar_vencedor(tabuleiro, jogador):\n",
        "    for i in range(3):\n",
        "        if all([celula == jogador for celula in tabuleiro[i]]) or all([tabuleiro[j][i] == jogador for j in range(3)]):\n",
        "            return True\n",
        "\n",
        "    if all([tabuleiro[i][i] == jogador for i in range(3)]) or all([tabuleiro[i][2 - i] == jogador for i in range(3)]):\n",
        "        return True\n",
        "\n",
        "    return False\n",
        "\n",
        "def jogo_da_velha():\n",
        "    tabuleiro = [[\" \" for _ in range(3)] for _ in range(3)]\n",
        "    jogadores = [\"X\", \"O\"]\n",
        "    turno = 0\n",
        "    jogadas = 0\n",
        "\n",
        "    while jogadas < 9:\n",
        "        exibir_tabuleiro(tabuleiro)\n",
        "        jogador_atual = jogadores[turno % 2]\n",
        "\n",
        "        print(f\"Jogador {jogador_atual}, faça sua jogada!\")\n",
        "        linha = int(input(\"Escolha a linha (0, 1, 2): \"))\n",
        "        coluna = int(input(\"Escolha a coluna (0, 1, 2): \"))\n",
        "\n",
        "        if tabuleiro[linha][coluna] == \" \":\n",
        "            tabuleiro[linha][coluna] = jogador_atual\n",
        "            jogadas += 1\n",
        "\n",
        "            if verificar_vencedor(tabuleiro, jogador_atual):\n",
        "                exibir_tabuleiro(tabuleiro)\n",
        "                print(f\"Jogador {jogador_atual} venceu!\")\n",
        "                return\n",
        "\n",
        "            turno += 1\n",
        "        else:\n",
        "            print(\"Essa célula já está ocupada. Tente novamente.\")\n",
        "\n",
        "    exibir_tabuleiro(tabuleiro)\n",
        "    print(\"Empate!\")\n",
        "\n",
        "jogo_da_velha()\n"
      ],
      "metadata": {
        "id": "GrGUwTebWC0H",
        "outputId": "65714351-a891-4e72-af83-8b09e5b55bc5",
        "colab": {
          "base_uri": "https://localhost:8080/"
        }
      },
      "execution_count": null,
      "outputs": [
        {
          "output_type": "stream",
          "name": "stdout",
          "text": [
            "  |   |  \n",
            "----------\n",
            "  |   |  \n",
            "----------\n",
            "  |   |  \n",
            "----------\n",
            "Jogador X, faça sua jogada!\n",
            "Escolha a linha (0, 1, 2): 0\n",
            "Escolha a coluna (0, 1, 2): 1\n",
            "  | X |  \n",
            "----------\n",
            "  |   |  \n",
            "----------\n",
            "  |   |  \n",
            "----------\n",
            "Jogador O, faça sua jogada!\n",
            "Escolha a linha (0, 1, 2): 1\n",
            "Escolha a coluna (0, 1, 2): 0\n",
            "  | X |  \n",
            "----------\n",
            "O |   |  \n",
            "----------\n",
            "  |   |  \n",
            "----------\n",
            "Jogador X, faça sua jogada!\n",
            "Escolha a linha (0, 1, 2): 2\n",
            "Escolha a coluna (0, 1, 2): 1\n",
            "  | X |  \n",
            "----------\n",
            "O |   |  \n",
            "----------\n",
            "  | X |  \n",
            "----------\n",
            "Jogador O, faça sua jogada!\n",
            "Escolha a linha (0, 1, 2): 1\n",
            "Escolha a coluna (0, 1, 2): 2\n",
            "  | X |  \n",
            "----------\n",
            "O |   | O\n",
            "----------\n",
            "  | X |  \n",
            "----------\n",
            "Jogador X, faça sua jogada!\n",
            "Escolha a linha (0, 1, 2): 1\n",
            "Escolha a coluna (0, 1, 2): 1\n",
            "  | X |  \n",
            "----------\n",
            "O | X | O\n",
            "----------\n",
            "  | X |  \n",
            "----------\n",
            "Jogador X venceu!\n"
          ]
        }
      ]
    },
    {
      "cell_type": "markdown",
      "source": [
        "33. Verificação de Anagramas\n",
        "\n",
        "Verifique se duas palavras fornecidas são anagramas uma da outra."
      ],
      "metadata": {
        "id": "fy4v9LlyXiWg"
      }
    },
    {
      "cell_type": "code",
      "source": [
        "def sao_anagramas(palavra1, palavra2):\n",
        "    return sorted(palavra1) == sorted(palavra2)\n",
        "\n",
        "palavra1 = input(\"Digite a primeira palavra: \")\n",
        "palavra2 = input(\"Digite a segunda palavra: \")\n",
        "\n",
        "if sao_anagramas(palavra1, palavra2):\n",
        "    print(\"As palavras são anagramas.\")\n",
        "else:\n",
        "    print(\"As palavras não são anagramas.\")\n"
      ],
      "metadata": {
        "id": "dd-RpzHPZ8GJ",
        "outputId": "129fd52e-1074-479f-d76e-0f3945a49972",
        "colab": {
          "base_uri": "https://localhost:8080/"
        }
      },
      "execution_count": null,
      "outputs": [
        {
          "output_type": "stream",
          "name": "stdout",
          "text": [
            "Digite a primeira palavra: Python\n",
            "Digite a segunda palavra: Pthony\n",
            "As palavras são anagramas.\n"
          ]
        }
      ]
    },
    {
      "cell_type": "markdown",
      "source": [
        "34. Contador de Vogais\n",
        "\n",
        "Conte o número de vogais em uma string fornecida."
      ],
      "metadata": {
        "id": "xgZ2mwcqcE4U"
      }
    },
    {
      "cell_type": "code",
      "source": [
        "def contar_vogais(texto):\n",
        "    vogais = \"aeiouAEIOU\"\n",
        "    contador = 0\n",
        "    for letra in texto:\n",
        "        if letra in vogais:\n",
        "            contador += 1\n",
        "    return contador\n",
        "\n",
        "texto = input(\"Digite o texto: \")\n",
        "\n",
        "numero_de_vogais = contar_vogais(texto)\n",
        "print(f\"O número de vogais no texto é: {numero_de_vogais}\")\n"
      ],
      "metadata": {
        "id": "I1WMh4zOcJJ5",
        "outputId": "2b5e8691-352c-4003-9ff0-e6264110f373",
        "colab": {
          "base_uri": "https://localhost:8080/"
        }
      },
      "execution_count": null,
      "outputs": [
        {
          "output_type": "stream",
          "name": "stdout",
          "text": [
            "Digite o texto: FLAMENGO CAMPEAO\n",
            "O número de vogais no texto é: 7\n"
          ]
        }
      ]
    },
    {
      "cell_type": "markdown",
      "source": [
        "35. Números Fibonacci Até N\n",
        "\n",
        "Gere a sequência de Fibonacci até um número n fornecido pelo usuário."
      ],
      "metadata": {
        "id": "CAJ_tMuddOYY"
      }
    },
    {
      "cell_type": "code",
      "source": [
        "def fibonacci_ate_n(n):\n",
        "    sequencia = []\n",
        "    a, b = 0, 1\n",
        "    while a <= n:\n",
        "        sequencia.append(a)\n",
        "        a, b = b, a + b\n",
        "    return sequencia\n",
        "\n",
        "n = int(input(\"Digite o número limite para a sequência de Fibonacci: \"))\n",
        "\n",
        "sequencia_fibonacci = fibonacci_ate_n(n)\n",
        "print(f\"A sequência de Fibonacci até {n} é: {sequencia_fibonacci}\")\n"
      ],
      "metadata": {
        "id": "ngBDJCvTdWEz",
        "outputId": "92713d79-b3fc-4085-8fa7-26c02a241d3c",
        "colab": {
          "base_uri": "https://localhost:8080/"
        }
      },
      "execution_count": null,
      "outputs": [
        {
          "output_type": "stream",
          "name": "stdout",
          "text": [
            "Digite o número limite para a sequência de Fibonacci: 15\n",
            "A sequência de Fibonacci até 15 é: [0, 1, 1, 2, 3, 5, 8, 13]\n"
          ]
        }
      ]
    },
    {
      "cell_type": "markdown",
      "source": [
        "36. Gerador de Senhas\n",
        "\n",
        "Crie um gerador de senhas aleatórias com letras e números."
      ],
      "metadata": {
        "id": "avTRjBvlebbc"
      }
    },
    {
      "cell_type": "code",
      "source": [
        "import random\n",
        "import string\n",
        "\n",
        "def gerar_senha(tamanho):\n",
        "    caracteres = string.ascii_letters + string.digits\n",
        "    senha = ''.join(random.choice(caracteres) for _ in range(tamanho))\n",
        "    return senha\n",
        "\n",
        "tamanho = int(input(\"Digite o tamanho da senha (números): \"))\n",
        "\n",
        "senha_gerada = gerar_senha(tamanho)\n",
        "print(f\"A senha gerada é: {senha_gerada}\")\n"
      ],
      "metadata": {
        "id": "IAHzesk3eire",
        "outputId": "7a3d1f2e-b460-4cf3-837c-80ea37d44f1d",
        "colab": {
          "base_uri": "https://localhost:8080/"
        }
      },
      "execution_count": null,
      "outputs": [
        {
          "output_type": "stream",
          "name": "stdout",
          "text": [
            "Digite o tamanho da senha (números): 5\n",
            "A senha gerada é: uwsfk\n"
          ]
        }
      ]
    },
    {
      "cell_type": "markdown",
      "source": [
        "37. Funções Recursivas\n",
        "\n",
        "Implemente uma função recursiva para calcular o fatorial de um número."
      ],
      "metadata": {
        "id": "icZLuCf4e6DZ"
      }
    },
    {
      "cell_type": "code",
      "source": [
        "def fatorial(n):\n",
        "    if n == 0 or n == 1:\n",
        "        return 1\n",
        "    else:\n",
        "        return n * fatorial(n - 1)\n",
        "\n",
        "numero = int(input(\"Digite um número para calcular o fatorial: \"))\n",
        "\n",
        "resultado = fatorial(numero)\n",
        "print(f\"O fatorial de {numero} é: {resultado}\")\n"
      ],
      "metadata": {
        "id": "BtAhRF7lfChY",
        "outputId": "cb0c11de-b286-4faf-aaa5-ccfd414e3c1d",
        "colab": {
          "base_uri": "https://localhost:8080/"
        }
      },
      "execution_count": null,
      "outputs": [
        {
          "output_type": "stream",
          "name": "stdout",
          "text": [
            "Digite um número para calcular o fatorial: 7\n",
            "O fatorial de 7 é: 5040\n"
          ]
        }
      ]
    },
    {
      "cell_type": "markdown",
      "source": [
        "38. Contar Palavras em Texto\n",
        "\n",
        "Conte o número de palavras em um texto fornecido pelo usuário."
      ],
      "metadata": {
        "id": "XyAAgwa3fWPE"
      }
    },
    {
      "cell_type": "code",
      "source": [
        "def contar_palavras(texto):\n",
        "    palavras = texto.split()\n",
        "    return len(palavras)\n",
        "\n",
        "texto = input(\"Digite o texto: \")\n",
        "\n",
        "numero_de_palavras = contar_palavras(texto)\n",
        "print(f\"O número de palavras no texto é: {numero_de_palavras}\")\n"
      ],
      "metadata": {
        "id": "-Qr6XTjdfcMh",
        "outputId": "2942f1fd-9b3e-4fe6-f15f-0d9c84fa5a21",
        "colab": {
          "base_uri": "https://localhost:8080/"
        }
      },
      "execution_count": null,
      "outputs": [
        {
          "output_type": "stream",
          "name": "stdout",
          "text": [
            "Digite o texto: O Flamengo é o maior clube do mundo\n",
            "O número de palavras no texto é: 8\n"
          ]
        }
      ]
    },
    {
      "cell_type": "markdown",
      "source": [
        "39. Jogo de Dados\n",
        "\n",
        "Simule o lançamento de dois dados e mostre o resultado."
      ],
      "metadata": {
        "id": "7eTZY8Vqfq07"
      }
    },
    {
      "cell_type": "code",
      "source": [
        "import random\n",
        "\n",
        "def lancar_dado():\n",
        "    return random.randint(1, 6)\n",
        "\n",
        "def jogo_de_dados():\n",
        "    dado1 = lancar_dado()\n",
        "    dado2 = lancar_dado()\n",
        "\n",
        "    print(f\"Resultado do primeiro dado: {dado1}\")\n",
        "    print(f\"Resultado do segundo dado: {dado2}\")\n",
        "    print(f\"Soma dos dois dados: {dado1 + dado2}\")\n",
        "\n",
        "jogo_de_dados()\n"
      ],
      "metadata": {
        "id": "LubR4ldpgCjW",
        "outputId": "92822c6b-612f-4b0f-f072-14517337b036",
        "colab": {
          "base_uri": "https://localhost:8080/"
        }
      },
      "execution_count": null,
      "outputs": [
        {
          "output_type": "stream",
          "name": "stdout",
          "text": [
            "Resultado do primeiro dado: 4\n",
            "Resultado do segundo dado: 6\n",
            "Soma dos dois dados: 10\n"
          ]
        }
      ]
    },
    {
      "cell_type": "markdown",
      "source": [
        "40. Lista de Compras\n",
        "\n",
        "Crie um programa para gerenciar uma lista de compras, permitindo adicionar, remover e listar itens."
      ],
      "metadata": {
        "id": "uD0GEtGigU3u"
      }
    },
    {
      "cell_type": "code",
      "source": [
        "def exibir_menu():\n",
        "    print(\"\\nMenu:\")\n",
        "    print(\"1. Adicionar item\")\n",
        "    print(\"2. Remover item\")\n",
        "    print(\"3. Listar itens\")\n",
        "    print(\"4. Sair\")\n",
        "\n",
        "def adicionar_item(lista):\n",
        "    item = input(\"Digite o item a ser adicionado: \")\n",
        "    lista.append(item)\n",
        "    print(f\"Item '{item}' adicionado à lista.\")\n",
        "\n",
        "def remover_item(lista):\n",
        "    item = input(\"Digite o item a ser removido: \")\n",
        "    if item in lista:\n",
        "        lista.remove(item)\n",
        "        print(f\"Item '{item}' removido da lista.\")\n",
        "    else:\n",
        "        print(f\"Item '{item}' não encontrado na lista.\")\n",
        "\n",
        "def listar_itens(lista):\n",
        "    if lista:\n",
        "        print(\"Itens na lista de compras:\")\n",
        "        for item in lista:\n",
        "            print(f\"- {item}\")\n",
        "    else:\n",
        "        print(\"A lista de compras está vazia.\")\n",
        "\n",
        "def main():\n",
        "    lista_compras = []\n",
        "    while True:\n",
        "        exibir_menu()\n",
        "        escolha = input(\"Escolha uma opção (1-4): \")\n",
        "\n",
        "        if escolha == \"1\":\n",
        "            adicionar_item(lista_compras)\n",
        "        elif escolha == \"2\":\n",
        "            remover_item(lista_compras)\n",
        "        elif escolha == \"3\":\n",
        "            listar_itens(lista_compras)\n",
        "        elif escolha == \"4\":\n",
        "            print(\"Saindo do programa...\")\n",
        "            break\n",
        "        else:\n",
        "            print(\"Opção inválida. Tente novamente.\")\n",
        "\n",
        "main()\n"
      ],
      "metadata": {
        "id": "xxNJsgHYgZ1H",
        "outputId": "693bf701-c611-4003-d9f5-8ec186064389",
        "colab": {
          "base_uri": "https://localhost:8080/"
        }
      },
      "execution_count": null,
      "outputs": [
        {
          "output_type": "stream",
          "name": "stdout",
          "text": [
            "\n",
            "Menu:\n",
            "1. Adicionar item\n",
            "2. Remover item\n",
            "3. Listar itens\n",
            "4. Sair\n",
            "Escolha uma opção (1-4): 1\n",
            "Digite o item a ser adicionado: leite\n",
            "Item 'leite' adicionado à lista.\n",
            "\n",
            "Menu:\n",
            "1. Adicionar item\n",
            "2. Remover item\n",
            "3. Listar itens\n",
            "4. Sair\n",
            "Escolha uma opção (1-4): 1\n",
            "Digite o item a ser adicionado: cafe\n",
            "Item 'cafe' adicionado à lista.\n",
            "\n",
            "Menu:\n",
            "1. Adicionar item\n",
            "2. Remover item\n",
            "3. Listar itens\n",
            "4. Sair\n",
            "Escolha uma opção (1-4): 3\n",
            "Itens na lista de compras:\n",
            "- leite\n",
            "- cafe\n",
            "\n",
            "Menu:\n",
            "1. Adicionar item\n",
            "2. Remover item\n",
            "3. Listar itens\n",
            "4. Sair\n",
            "Escolha uma opção (1-4): 2\n",
            "Digite o item a ser removido: cafe\n",
            "Item 'cafe' removido da lista.\n",
            "\n",
            "Menu:\n",
            "1. Adicionar item\n",
            "2. Remover item\n",
            "3. Listar itens\n",
            "4. Sair\n",
            "Escolha uma opção (1-4): 3\n",
            "Itens na lista de compras:\n",
            "- leite\n",
            "\n",
            "Menu:\n",
            "1. Adicionar item\n",
            "2. Remover item\n",
            "3. Listar itens\n",
            "4. Sair\n",
            "Escolha uma opção (1-4): 4\n",
            "Saindo do programa...\n"
          ]
        }
      ]
    },
    {
      "cell_type": "markdown",
      "source": [
        "41. Remover Duplicatas\n",
        "\n",
        "Remova duplicatas de uma lista de números."
      ],
      "metadata": {
        "id": "6KcyiamsgziK"
      }
    },
    {
      "cell_type": "code",
      "source": [
        "def remover_duplicatas(lista):\n",
        "    return list(set(lista))\n",
        "\n",
        "entrada = input(\"Digite uma lista de números separados por espaço: \")\n",
        "\n",
        "numeros = list(map(int, entrada.split()))\n",
        "\n",
        "numeros_sem_duplicatas = remover_duplicatas(numeros)\n",
        "print(f\"Lista sem duplicatas: {numeros_sem_duplicatas}\")\n"
      ],
      "metadata": {
        "id": "voC0j_g8g0tq",
        "outputId": "f84b9ad6-7ccd-488e-930c-a176232c6441",
        "colab": {
          "base_uri": "https://localhost:8080/"
        }
      },
      "execution_count": null,
      "outputs": [
        {
          "output_type": "stream",
          "name": "stdout",
          "text": [
            "Digite uma lista de números separados por espaço: 1 3 6 7 8 9 2 5 5 7 \n",
            "Lista sem duplicatas: [1, 2, 3, 5, 6, 7, 8, 9]\n"
          ]
        }
      ]
    },
    {
      "cell_type": "markdown",
      "source": [
        "42. Números Primos até N\n",
        "\n",
        "Gere todos os números primos até um número n fornecido."
      ],
      "metadata": {
        "id": "91-hRmOzg4mC"
      }
    },
    {
      "cell_type": "code",
      "source": [
        "def e_primo(numero):\n",
        "    if numero <= 1:\n",
        "        return False\n",
        "    for i in range(2, int(numero**0.5) + 1):\n",
        "        if numero % i == 0:\n",
        "            return False\n",
        "    return True\n",
        "\n",
        "def numeros_primos_ate_n(n):\n",
        "    primos = []\n",
        "    for num in range(2, n + 1):\n",
        "        if e_primo(num):\n",
        "            primos.append(num)\n",
        "    return primos\n",
        "\n",
        "n = int(input(\"Digite o número limite para encontrar números primos: \"))\n",
        "\n",
        "primos = numeros_primos_ate_n(n)\n",
        "print(f\"Números primos até {n} são: {primos}\")\n"
      ],
      "metadata": {
        "id": "TsclaTv9g8Nl",
        "outputId": "e8052dde-3c5d-4958-9e2e-3555b94066e2",
        "colab": {
          "base_uri": "https://localhost:8080/"
        }
      },
      "execution_count": null,
      "outputs": [
        {
          "output_type": "stream",
          "name": "stdout",
          "text": [
            "Digite o número limite para encontrar números primos: 100\n",
            "Números primos até 100 são: [2, 3, 5, 7, 11, 13, 17, 19, 23, 29, 31, 37, 41, 43, 47, 53, 59, 61, 67, 71, 73, 79, 83, 89, 97]\n"
          ]
        }
      ]
    },
    {
      "cell_type": "markdown",
      "source": [
        "43. Conversor de Unidades\n",
        "\n",
        "Converta unidades de comprimento (por exemplo, metros para centímetros).\n"
      ],
      "metadata": {
        "id": "-GGLYka1g8o7"
      }
    },
    {
      "cell_type": "code",
      "source": [
        "def converter_unidade(valor, unidade_origem, unidade_destino):\n",
        "    conversoes = {\n",
        "        'metros': {'centimetros': valor * 100, 'milimetros': valor * 1000},\n",
        "        'centimetros': {'metros': valor / 100, 'milimetros': valor * 10},\n",
        "        'milimetros': {'metros': valor / 1000, 'centimetros': valor / 10}\n",
        "    }\n",
        "\n",
        "    return conversoes[unidade_origem][unidade_destino]\n",
        "\n",
        "valor = float(input(\"Digite o valor a ser convertido: \"))\n",
        "unidade_origem = input(\"Digite a unidade de origem (metros, centimetros, milimetros): \").lower()\n",
        "unidade_destino = input(\"Digite a unidade de destino (metros, centimetros, milimetros): \").lower()\n",
        "\n",
        "resultado = converter_unidade(valor, unidade_origem, unidade_destino)\n",
        "print(f\"{valor} {unidade_origem} é igual a {resultado} {unidade_destino}\")\n"
      ],
      "metadata": {
        "id": "MzsNKzC9hzuj",
        "outputId": "73516b55-d47b-488c-b1c7-bfde7532bc9a",
        "colab": {
          "base_uri": "https://localhost:8080/"
        }
      },
      "execution_count": null,
      "outputs": [
        {
          "output_type": "stream",
          "name": "stdout",
          "text": [
            "Digite o valor a ser convertido: 1000\n",
            "Digite a unidade de origem (metros, centimetros, milimetros): metros\n",
            "Digite a unidade de destino (metros, centimetros, milimetros): centimetros\n",
            "1000.0 metros é igual a 100000.0 centimetros\n"
          ]
        }
      ]
    },
    {
      "cell_type": "markdown",
      "source": [
        "44. Fibonacci em Nível\n",
        "\n",
        "Gere a sequência de Fibonacci até um determinado número de termos."
      ],
      "metadata": {
        "id": "-hobyS81iwNt"
      }
    },
    {
      "cell_type": "code",
      "source": [
        "def fibonacci(n):\n",
        "    sequencia = []\n",
        "    a, b = 0, 1\n",
        "    while len(sequencia) < n:\n",
        "        sequencia.append(a)\n",
        "        a, b = b, a + b\n",
        "    return sequencia\n",
        "\n",
        "n = int(input(\"Digite o número de termos da sequência de Fibonacci: \"))\n",
        "\n",
        "resultado = fibonacci(n)\n",
        "print(f\"Sequência de Fibonacci com {n} termos: {resultado}\")\n"
      ],
      "metadata": {
        "id": "OgK3q-pgi5WK",
        "outputId": "e690f288-18ff-4665-c59e-781c8f060b3c",
        "colab": {
          "base_uri": "https://localhost:8080/"
        }
      },
      "execution_count": null,
      "outputs": [
        {
          "output_type": "stream",
          "name": "stdout",
          "text": [
            "Digite o número de termos da sequência de Fibonacci: 5\n",
            "Sequência de Fibonacci com 5 termos: [0, 1, 1, 2, 3]\n"
          ]
        }
      ]
    },
    {
      "cell_type": "markdown",
      "source": [
        "45. Par ou Ímpar em Lista\n",
        "\n",
        "Classifique os números de uma lista como pares ou ímpares."
      ],
      "metadata": {
        "id": "-3WKFiY2jDyc"
      }
    },
    {
      "cell_type": "code",
      "source": [
        "def classificar_pares_impares(lista):\n",
        "    pares = []\n",
        "    impares = []\n",
        "    for numero in lista:\n",
        "        if numero % 2 == 0:\n",
        "            pares.append(numero)\n",
        "        else:\n",
        "            impares.append(numero)\n",
        "    return pares, impares\n",
        "\n",
        "entrada = input(\"Digite uma lista de números separados por espaço: \")\n",
        "\n",
        "numeros = list(map(int, entrada.split()))\n",
        "\n",
        "pares, impares = classificar_pares_impares(numeros)\n",
        "print(f\"Números pares: {pares}\")\n",
        "print(f\"Números ímpares: {impares}\")\n"
      ],
      "metadata": {
        "id": "Nk3Ve5-WjJGZ",
        "outputId": "54c5dd59-df04-409c-bca8-cfb0399dd072",
        "colab": {
          "base_uri": "https://localhost:8080/"
        }
      },
      "execution_count": null,
      "outputs": [
        {
          "output_type": "stream",
          "name": "stdout",
          "text": [
            "Digite uma lista de números separados por espaço: 10 30 50 40 15\n",
            "Números pares: [10, 30, 50, 40]\n",
            "Números ímpares: [15]\n"
          ]
        }
      ]
    },
    {
      "cell_type": "markdown",
      "source": [
        "46. Calcular Média e Desvio Padrão\n",
        "\n",
        "Calcule a média e o desvio padrão de uma lista de números."
      ],
      "metadata": {
        "id": "bSxw6vbXjbga"
      }
    },
    {
      "cell_type": "code",
      "source": [
        "import math\n",
        "\n",
        "def calcular_media(lista):\n",
        "    return sum(lista) / len(lista)\n",
        "\n",
        "def calcular_desvio_padrao(lista, media):\n",
        "    variancia = sum((x - media) ** 2 for x in lista) / len(lista)\n",
        "    return math.sqrt(variancia)\n",
        "\n",
        "entrada = input(\"Digite uma lista de números separados por espaço: \")\n",
        "\n",
        "numeros = list(map(float, entrada.split()))\n",
        "\n",
        "media = calcular_media(numeros)\n",
        "desvio_padrao = calcular_desvio_padrao(numeros, media)\n",
        "\n",
        "print(f\"Média: {media:.2f}\")\n",
        "print(f\"Desvio Padrão: {desvio_padrao:.2f}\")\n"
      ],
      "metadata": {
        "id": "cQpwWezujjDv",
        "outputId": "fa74be7b-4ae4-464e-bd07-86ea939ed8cb",
        "colab": {
          "base_uri": "https://localhost:8080/"
        }
      },
      "execution_count": null,
      "outputs": [
        {
          "output_type": "stream",
          "name": "stdout",
          "text": [
            "Digite uma lista de números separados por espaço: 10 50 40 65 3 4\n",
            "Média: 28.67\n",
            "Desvio Padrão: 24.22\n"
          ]
        }
      ]
    },
    {
      "cell_type": "markdown",
      "source": [
        "47. Contar Números em Lista\n",
        "\n",
        "Conte quantas vezes cada número aparece em uma lista."
      ],
      "metadata": {
        "id": "5P9PSFXMjyqo"
      }
    },
    {
      "cell_type": "code",
      "source": [
        "def contar_numeros(lista):\n",
        "    contagem = {}\n",
        "    for numero in lista:\n",
        "        if numero in contagem:\n",
        "            contagem[numero] += 1\n",
        "        else:\n",
        "            contagem[numero] = 1\n",
        "    return contagem\n",
        "\n",
        "entrada = input(\"Digite uma lista de números separados por espaço: \")\n",
        "\n",
        "numeros = list(map(int, entrada.split()))\n",
        "\n",
        "contagem = contar_numeros(numeros)\n",
        "for numero, qtd in contagem.items():\n",
        "    print(f\"Número {numero} aparece {qtd} vez(es)\")\n"
      ],
      "metadata": {
        "id": "bM9kBc25j17z",
        "outputId": "47a1b490-3641-47f9-ddbe-a7b899a17ff3",
        "colab": {
          "base_uri": "https://localhost:8080/"
        }
      },
      "execution_count": null,
      "outputs": [
        {
          "output_type": "stream",
          "name": "stdout",
          "text": [
            "Digite uma lista de números separados por espaço: 1 2 5 4 2 1 6 9 8 7 1 2 3 5 8 \n",
            "Número 1 aparece 3 vez(es)\n",
            "Número 2 aparece 3 vez(es)\n",
            "Número 5 aparece 2 vez(es)\n",
            "Número 4 aparece 1 vez(es)\n",
            "Número 6 aparece 1 vez(es)\n",
            "Número 9 aparece 1 vez(es)\n",
            "Número 8 aparece 2 vez(es)\n",
            "Número 7 aparece 1 vez(es)\n",
            "Número 3 aparece 1 vez(es)\n"
          ]
        }
      ]
    },
    {
      "cell_type": "markdown",
      "source": [
        "48. Ordenação por Inserção\n",
        "\n",
        "Implemente o algoritmo de ordenação por inserção (Insertion Sort).\n"
      ],
      "metadata": {
        "id": "-vIpkRF5kT3R"
      }
    },
    {
      "cell_type": "code",
      "source": [
        "def insertion_sort(lista):\n",
        "    for i in range(1, len(lista)):\n",
        "        chave = lista[i]\n",
        "        j = i - 1\n",
        "        while j >= 0 and chave < lista[j]:\n",
        "            lista[j + 1] = lista[j]\n",
        "            j -= 1\n",
        "        lista[j + 1] = chave\n",
        "    return lista\n",
        "\n",
        "entrada = input(\"Digite uma lista de números separados por espaço: \")\n",
        "\n",
        "numeros = list(map(int, entrada.split()))\n",
        "\n",
        "ordenados = insertion_sort(numeros)\n",
        "\n",
        "print(f\"Lista ordenada: {ordenados}\")\n"
      ],
      "metadata": {
        "id": "2Rc2kVYfkgTn",
        "outputId": "aa9c4c01-77fd-4320-f34e-485a9853626e",
        "colab": {
          "base_uri": "https://localhost:8080/"
        }
      },
      "execution_count": null,
      "outputs": [
        {
          "output_type": "stream",
          "name": "stdout",
          "text": [
            "Digite uma lista de números separados por espaço: 1 4 8 6 2 5 2 3 7\n",
            "Lista ordenada: [1, 2, 2, 3, 4, 5, 6, 7, 8]\n"
          ]
        }
      ]
    },
    {
      "cell_type": "markdown",
      "source": [
        "49. Soma dos Dígitos\n",
        "\n",
        "Calcule a soma dos dígitos de um número inteiro fornecido."
      ],
      "metadata": {
        "id": "bkTT7L0Tkw7W"
      }
    },
    {
      "cell_type": "code",
      "source": [
        "def soma_digitos(numero):\n",
        "    return sum(int(digito) for digito in str(numero))\n",
        "\n",
        "numero = int(input(\"Digite um número inteiro: \"))\n",
        "\n",
        "resultado = soma_digitos(numero)\n",
        "print(f\"A soma dos dígitos de {numero} é {resultado}\")\n"
      ],
      "metadata": {
        "id": "hGavshqQk7uP",
        "outputId": "18811b86-a194-4734-896f-5b7ca6d52c61",
        "colab": {
          "base_uri": "https://localhost:8080/"
        }
      },
      "execution_count": null,
      "outputs": [
        {
          "output_type": "stream",
          "name": "stdout",
          "text": [
            "Digite um número inteiro: 524\n",
            "A soma dos dígitos de 524 é 11\n"
          ]
        }
      ]
    },
    {
      "cell_type": "markdown",
      "source": [
        "50. Cálculo de Frequência de Letras\n",
        "\n",
        "Calcule a frequência de cada letra em uma string fornecida pelo usuário."
      ],
      "metadata": {
        "id": "3PYVkUS8lfJy"
      }
    },
    {
      "cell_type": "code",
      "source": [
        "def calcular_frequencia_letras(texto):\n",
        "    frequencia = {}\n",
        "    for letra in texto:\n",
        "        if letra.isalpha():\n",
        "            letra = letra.lower()\n",
        "            if letra in frequencia:\n",
        "                frequencia[letra] += 1\n",
        "            else:\n",
        "                frequencia[letra] = 1\n",
        "    return frequencia\n",
        "\n",
        "texto = input(\"Digite um texto: \")\n",
        "\n",
        "frequencia = calcular_frequencia_letras(texto)\n",
        "for letra, qtd in sorted(frequencia.items()):\n",
        "    print(f\"Letra '{letra}': {qtd} vez(es)\")\n"
      ],
      "metadata": {
        "id": "hI9DPMULlikC",
        "outputId": "df2e3320-3b7b-4d05-87e7-a53322584165",
        "colab": {
          "base_uri": "https://localhost:8080/"
        }
      },
      "execution_count": null,
      "outputs": [
        {
          "output_type": "stream",
          "name": "stdout",
          "text": [
            "Digite um texto: Flamengo campeao da libertadores\n",
            "Letra 'a': 5 vez(es)\n",
            "Letra 'b': 1 vez(es)\n",
            "Letra 'c': 1 vez(es)\n",
            "Letra 'd': 2 vez(es)\n",
            "Letra 'e': 4 vez(es)\n",
            "Letra 'f': 1 vez(es)\n",
            "Letra 'g': 1 vez(es)\n",
            "Letra 'i': 1 vez(es)\n",
            "Letra 'l': 2 vez(es)\n",
            "Letra 'm': 2 vez(es)\n",
            "Letra 'n': 1 vez(es)\n",
            "Letra 'o': 3 vez(es)\n",
            "Letra 'p': 1 vez(es)\n",
            "Letra 'r': 2 vez(es)\n",
            "Letra 's': 1 vez(es)\n",
            "Letra 't': 1 vez(es)\n"
          ]
        }
      ]
    },
    {
      "cell_type": "markdown",
      "source": [],
      "metadata": {
        "id": "tVuh4C_wk8JO"
      }
    }
  ],
  "metadata": {
    "colab": {
      "provenance": []
    },
    "kernelspec": {
      "display_name": "Python 3",
      "name": "python3"
    }
  },
  "nbformat": 4,
  "nbformat_minor": 0
}