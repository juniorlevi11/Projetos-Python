{
  "nbformat": 4,
  "nbformat_minor": 0,
  "metadata": {
    "colab": {
      "provenance": []
    },
    "kernelspec": {
      "name": "python3",
      "display_name": "Python 3"
    },
    "language_info": {
      "name": "python"
    }
  },
  "cells": [
    {
      "cell_type": "markdown",
      "source": [
        "# 1. Carregar o Dataset:\n",
        "\n",
        "- Baixar o dataset do Titanic da plataforma Kaggle (link aqui).\n",
        "\n",
        "- Carregar os dados no ambiente Python utilizando pandas."
      ],
      "metadata": {
        "id": "SkSGIayzgq9Z"
      }
    },
    {
      "cell_type": "code",
      "execution_count": 1,
      "metadata": {
        "id": "gGWZ2U_1d0sL"
      },
      "outputs": [],
      "source": [
        "import pandas as pd\n",
        "import numpy as np"
      ]
    },
    {
      "cell_type": "code",
      "source": [
        "import seaborn as sns\n",
        "import pandas as pd\n",
        "df = sns.load_dataset('titanic')\n",
        "print (df.head())"
      ],
      "metadata": {
        "colab": {
          "base_uri": "https://localhost:8080/"
        },
        "id": "dSqNdURueDZL",
        "outputId": "7e669114-580d-44ad-d539-b1b4a4271016"
      },
      "execution_count": 3,
      "outputs": [
        {
          "output_type": "stream",
          "name": "stdout",
          "text": [
            "   survived  pclass     sex   age  sibsp  parch     fare embarked  class  \\\n",
            "0         0       3    male  22.0      1      0   7.2500        S  Third   \n",
            "1         1       1  female  38.0      1      0  71.2833        C  First   \n",
            "2         1       3  female  26.0      0      0   7.9250        S  Third   \n",
            "3         1       1  female  35.0      1      0  53.1000        S  First   \n",
            "4         0       3    male  35.0      0      0   8.0500        S  Third   \n",
            "\n",
            "     who  adult_male deck  embark_town alive  alone  \n",
            "0    man        True  NaN  Southampton    no  False  \n",
            "1  woman       False    C    Cherbourg   yes  False  \n",
            "2  woman       False  NaN  Southampton   yes   True  \n",
            "3  woman       False    C  Southampton   yes  False  \n",
            "4    man        True  NaN  Southampton    no   True  \n"
          ]
        }
      ]
    },
    {
      "cell_type": "markdown",
      "source": [
        "# 2. Limpeza dos Dados:\n",
        "\n",
        "- Preencher os valores ausentes na coluna Age com a mediana.\n",
        "\n",
        "- Preencher os valores ausentes na coluna Embarked com a moda.\n",
        "\n",
        "- Descartar a coluna Cabin por conter muitos valores ausentes."
      ],
      "metadata": {
        "id": "ud1EEjGSg2rh"
      }
    },
    {
      "cell_type": "code",
      "source": [
        "from sklearn.impute import SimpleImputer\n",
        "imputer = SimpleImputer(missing_values=np.nan, strategy='mean')\n",
        "imputer.fit(df[['age']])\n",
        "df['age'] = imputer.transform(df[['age']])"
      ],
      "metadata": {
        "id": "R8I1MwC8gFo7"
      },
      "execution_count": 4,
      "outputs": []
    },
    {
      "cell_type": "code",
      "source": [
        "df['embarked'] = df['embarked'].fillna(df['embarked'].mode()[0])"
      ],
      "metadata": {
        "id": "AReh8x_GgRY7"
      },
      "execution_count": 8,
      "outputs": []
    },
    {
      "cell_type": "markdown",
      "source": [
        "# 3. Pré-processamento dos Dados:\n",
        "\n",
        "- Converter a variável Sex em numérica (0 para feminino e 1 para masculino).\n",
        "- Converter os valores de Embarked em numéricos (0 para Cherbourg, 1 para Queenstown e 2 para Southampton)."
      ],
      "metadata": {
        "id": "tpUP2fE5iWFS"
      }
    },
    {
      "cell_type": "code",
      "source": [
        "df['sex'] = df['sex'].map({'female': 0, 'male': 1})"
      ],
      "metadata": {
        "id": "aZvXwpW6iV2S"
      },
      "execution_count": 10,
      "outputs": []
    },
    {
      "cell_type": "code",
      "source": [
        "df['embarked'] = df['embarked'].map({'C': 0, 'Q': 1, 'S': 2})"
      ],
      "metadata": {
        "id": "ymyJ9gi9ifnB"
      },
      "execution_count": 11,
      "outputs": []
    },
    {
      "cell_type": "markdown",
      "source": [
        "# 4. Definir Features e Alvo:\n",
        "\n",
        "- Utilizar as seguintes variáveis como features: Pclass (classe da passagem), Sex (gênero), Age (idade), SibSp (número de irmãos/cônjuges) e Fare (tarifa).\n",
        "- Definir a variável Survived como alvo (target)."
      ],
      "metadata": {
        "id": "93u_4x97ikvB"
      }
    },
    {
      "cell_type": "code",
      "source": [
        "x = df[['pclass', 'sex', 'age', 'sibsp', 'fare']]\n",
        "y = df['survived']"
      ],
      "metadata": {
        "id": "dpPqf2ArikhJ"
      },
      "execution_count": 12,
      "outputs": []
    },
    {
      "cell_type": "markdown",
      "source": [
        "# 5. Árvore de Decisão:\n",
        "\n",
        "- Treinar um modelo de Árvore de Decisão usando a biblioteca scikit-learn.\n",
        "- Avaliar o modelo com uma validação cruzada de 5 folds e registrar a acurácia média."
      ],
      "metadata": {
        "id": "cte5aCjki3U6"
      }
    },
    {
      "cell_type": "code",
      "source": [
        "from sklearn.tree import DecisionTreeClassifier\n",
        "from sklearn.model_selection import cross_val_score\n",
        "\n",
        "df_model = DecisionTreeClassifier()\n",
        "scores = cross_val_score(df_model, x, y, cv=5)\n",
        "print(\"Acurácia média: {:.2f}\".format(scores.mean()))"
      ],
      "metadata": {
        "colab": {
          "base_uri": "https://localhost:8080/"
        },
        "id": "PtVkR2T5jGh5",
        "outputId": "a7953a49-6bf0-403c-bef5-09c2e07d64fc"
      },
      "execution_count": 13,
      "outputs": [
        {
          "output_type": "stream",
          "name": "stdout",
          "text": [
            "Acurácia média: 0.77\n"
          ]
        }
      ]
    },
    {
      "cell_type": "markdown",
      "source": [
        "# 6. Random Forest:\n",
        "\n",
        "- Treinar um modelo de Random Forest e comparar seu desempenho com o da Árvore de Decisão.\n",
        "- Avaliar o modelo utilizando a mesma validação cruzada de 5 folds.\n",
        "- Extra: Ajustar os hiperparâmetros do Random Forest utilizando GridSearchCV para melhorar a performance do modelo."
      ],
      "metadata": {
        "id": "1wAb_EAUjWVC"
      }
    },
    {
      "cell_type": "code",
      "source": [
        "from sklearn.ensemble import RandomForestClassifier\n",
        "\n",
        "rf_model = RandomForestClassifier(random_state=42)\n",
        "rf_scores = cross_val_score(rf_model, x, y, cv=5)\n",
        "print(f' Acurácia média (Random Forest): {rf_scores.mean():.4f}')"
      ],
      "metadata": {
        "colab": {
          "base_uri": "https://localhost:8080/"
        },
        "id": "rTb68bKCjkJ5",
        "outputId": "80813503-d568-4aa4-8792-14fcf95a62bb"
      },
      "execution_count": 15,
      "outputs": [
        {
          "output_type": "stream",
          "name": "stdout",
          "text": [
            " Acurácia média (Random Forest): 0.8171\n"
          ]
        }
      ]
    },
    {
      "cell_type": "code",
      "source": [
        "from sklearn.model_selection import GridSearchCV\n",
        "param_grid = {\n",
        "    'n_estimators': [100, 200, 300],\n",
        "    'max_depth': [None, 10, 20, 30],\n",
        "    'min_samples_split': [2, 5, 10],\n",
        "    'min_samples_leaf': [1,2,4]\n",
        "}\n",
        "grid_search = GridSearchCV(estimator=rf_model, param_grid=param_grid, cv=5, n_jobs=-1, verbose=2)\n",
        "grid_search.fit(x, y)\n",
        "print(f'Melhores parâmetros: {grid_search.best_params_}')"
      ],
      "metadata": {
        "colab": {
          "base_uri": "https://localhost:8080/"
        },
        "id": "dS-uelzMixHC",
        "outputId": "eaabde46-bf19-4875-825f-74904eccb65b"
      },
      "execution_count": 19,
      "outputs": [
        {
          "output_type": "stream",
          "name": "stdout",
          "text": [
            "Fitting 5 folds for each of 108 candidates, totalling 540 fits\n",
            "Melhores parâmetros: {'max_depth': 10, 'min_samples_leaf': 1, 'min_samples_split': 10, 'n_estimators': 100}\n"
          ]
        }
      ]
    },
    {
      "cell_type": "markdown",
      "source": [
        "# 7. Importância das Variáveis:\n",
        "\n",
        "- No modelo de Random Forest, verificar a importância das variáveis (features) utilizando o atributo feature_importances_.\n",
        "- Gerar um gráfico de barras mostrando a importância de cada variável no modelo.\n",
        "- Interpretar quais variáveis mais influenciam a previsão de sobrevivência e discutir esses resultados."
      ],
      "metadata": {
        "id": "z7Bv1ptrmZVE"
      }
    },
    {
      "cell_type": "code",
      "source": [
        "best_rf_model = grid_search.best_estimator_\n",
        "\n",
        "importances = best_rf_model.feature_importances_\n",
        "\n",
        "for feature, importance in zip(x.columns, importances):\n",
        "    print(f'{feature}: {importance:.4f}')"
      ],
      "metadata": {
        "colab": {
          "base_uri": "https://localhost:8080/"
        },
        "id": "tsG39qaXmZJM",
        "outputId": "0e9bc6c4-cc9e-4f8c-eaa8-3adb3a86c2b8"
      },
      "execution_count": 22,
      "outputs": [
        {
          "output_type": "stream",
          "name": "stdout",
          "text": [
            "pclass: 0.1296\n",
            "sex: 0.3881\n",
            "age: 0.2011\n",
            "sibsp: 0.0521\n",
            "fare: 0.2291\n"
          ]
        }
      ]
    },
    {
      "cell_type": "code",
      "source": [
        "import matplotlib.pyplot as plt\n",
        "plt.figure(figsize=(10, 6))\n",
        "plt.barh(x.columns, importances, color='skyblue')\n",
        "plt.xlabel('Importância')\n",
        "plt.ylabel('Variável')\n",
        "plt.title('Importância das Variáveis no Modelo de Random Forest')\n",
        "plt.show()"
      ],
      "metadata": {
        "colab": {
          "base_uri": "https://localhost:8080/",
          "height": 565
        },
        "id": "JAHLE_n5nHVf",
        "outputId": "22d51a43-8544-4675-edeb-8eb67747f4ed"
      },
      "execution_count": 23,
      "outputs": [
        {
          "output_type": "display_data",
          "data": {
            "text/plain": [
              "<Figure size 1000x600 with 1 Axes>"
            ],
            "image/png": "[encoded data removed]"
          },
          "metadata": {}
        }
      ]
    },
    {
      "cell_type": "markdown",
      "source": [
        "# 8. Comparação de Desempenho:\n",
        "\n",
        "- Comparar os resultados das duas abordagens (Árvore de Decisão e Random Forest) e discutir qual modelo apresentou melhor performance.\n",
        "- Incluam métricas como acurácia, precisão e recall.\n",
        "- Explorem como a importância das variáveis ajuda a entender o comportamento do modelo."
      ],
      "metadata": {
        "id": "K9bFarTinuD4"
      }
    },
    {
      "cell_type": "code",
      "source": [
        "from sklearn.metrics import make_scorer, precision_score, recall_score\n",
        "from sklearn.model_selection import cross_validate\n",
        "scoring = {'accuracy': 'accuracy',\n",
        "          'precision': make_scorer(precision_score),\n",
        "          'recall': make_scorer(recall_score)}\n",
        "dt_model = DecisionTreeClassifier(random_state=42)\n",
        "dt_scores = cross_validate(dt_model, x, y, cv=5, scoring=scoring)\n",
        "rf_model = RandomForestClassifier(random_state=42)\n",
        "rf_scores = cross_validate(rf_model, x, y, cv=5, scoring=scoring)\n",
        "print(f\"Árvore de Decisão - Acurácia: {dt_scores['test_accuracy'].mean():.4f}, Precisão: {dt_scores['test_precision'].mean():.4f}, Recall: {dt_scores['test_recall'].mean():.4f}\")\n",
        "print(f\"Random Forest - Acurácia: {rf_scores['test_accuracy'].mean():.4f}, Precisão: {rf_scores['test_precision'].mean():.4f}, Recall: {rf_scores['test_recall'].mean():.4f}\")"
      ],
      "metadata": {
        "colab": {
          "base_uri": "https://localhost:8080/"
        },
        "id": "KjYVB0kQntp_",
        "outputId": "d6db3581-8ee9-4330-982f-7988bd2c059e"
      },
      "execution_count": 27,
      "outputs": [
        {
          "output_type": "stream",
          "name": "stdout",
          "text": [
            "Árvore de Decisão - Acurácia: 0.7711, Precisão: 0.7053, Recall: 0.6988\n",
            "Random Forest - Acurácia: 0.8171, Precisão: 0.7743, Recall: 0.7397\n"
          ]
        }
      ]
    },
    {
      "cell_type": "markdown",
      "source": [
        "# 9. Extra:\n",
        "\n",
        "- Testar outras variáveis do dataset, como Embarked e Parch, e verificar se a - inclusão delas melhora o desempenho do modelo."
      ],
      "metadata": {
        "id": "7TVmXavToyzB"
      }
    },
    {
      "cell_type": "code",
      "source": [
        "x = df[['pclass', 'sex', 'age', 'sibsp', 'fare', 'embarked', 'parch']]\n",
        "\n",
        "dt_model_new = DecisionTreeClassifier(random_state=42)\n",
        "dt_scores_new = cross_validate(dt_model_new, x , y, cv=5, scoring=scoring)\n",
        "\n",
        "rf_model_new = RandomForestClassifier(random_state=42)\n",
        "rf_scores_new = cross_validate(rf_model_new, x , y, cv=5, scoring=scoring)\n",
        "\n",
        "print(f\"Árvore de Decisão (com novas variáveis) - Acurácia: {dt_scores_new['test_accuracy'].mean():.4f}, Precisão: {dt_scores_new['test_precision'].mean():.4f}, Recall: {dt_scores_new['test_recall'].mean():.4f}\")\n",
        "print(f\"Random Forest (com novas variáveis) - Acurácia: {rf_scores_new['test_accuracy'].mean():.4f}, Precisão: {rf_scores_new['test_precision'].mean():.4f}, Recall: {rf_scores_new['test_recall'].mean():.4f}\")"
      ],
      "metadata": {
        "colab": {
          "base_uri": "https://localhost:8080/"
        },
        "id": "xLfPD5rfpoSy",
        "outputId": "939875de-1346-4ed8-cce5-d4b3880f8aa0"
      },
      "execution_count": 37,
      "outputs": [
        {
          "output_type": "stream",
          "name": "stdout",
          "text": [
            "Árvore de Decisão (com novas variáveis) - Acurácia: 0.7655, Precisão: 0.6947, Recall: 0.6930\n",
            "Random Forest (com novas variáveis) - Acurácia: 0.8093, Precisão: 0.7624, Recall: 0.7337\n"
          ]
        }
      ]
    }
  ]
}