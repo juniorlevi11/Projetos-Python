{
  "nbformat": 4,
  "nbformat_minor": 0,
  "metadata": {
    "colab": {
      "provenance": []
    },
    "kernelspec": {
      "name": "python3",
      "display_name": "Python 3"
    },
    "language_info": {
      "name": "python"
    }
  },
  "cells": [
    {
      "cell_type": "markdown",
      "source": [
        "1. Calculadora de Médias\n",
        "Enunciado: Crie um programa que calcule a média aritmética de uma lista de números fornecida pelo usuário. O programa deve permitir que o usuário insira quantos números desejar e, ao final, exibir a média dos números inseridos.\n",
        "\n",
        "EXPLICAÇÃO:\n",
        "- Função calcular_media: Define a lógica para calcular a média.\n",
        "- Lista numeros: Armazena os números inseridos pelo usuário.\n",
        "- Loop while: Permite ao usuário inserir números continuamente. O loop para quando o usuário digita \"sair\".\n",
        "- Try/Except: Trata a entrada do usuário, convertendo o input para float se possível. Se não for possível (entrada inválida), verifica se o usuário deseja sair.\n",
        "- Cálculo da Média: Soma todos os números e divide pelo total de números inseridos.\n",
        "- Exibição da Média: Mostra a média dos números inseridos."
      ],
      "metadata": {
        "id": "6xOYVWDXRqcO"
      }
    },
    {
      "cell_type": "code",
      "source": [
        "def calcular_media():\n",
        "    numeros = []\n",
        "    while True:\n",
        "        try:\n",
        "            numero = float(input(\"Digite um número (ou 'sair' para finalizar): \"))\n",
        "            numeros.append(numero)\n",
        "        except ValueError:\n",
        "            sair = input(\"Você quer sair? (s/n): \").strip().lower()\n",
        "            if sair == 's':\n",
        "                break\n",
        "            else:\n",
        "                print(\"Por favor, digite um número válido ou 'sair' para finalizar.\")\n",
        "\n",
        "    if numeros:\n",
        "        media = sum(numeros) / len(numeros)\n",
        "        print(f\"A média dos números inseridos é: {media:.2f}\")\n",
        "    else:\n",
        "        print(\"Nenhum número foi inserido.\")\n",
        "\n",
        "calcular_media()\n"
      ],
      "metadata": {
        "colab": {
          "base_uri": "https://localhost:8080/"
        },
        "id": "x-sVY13KYYhL",
        "outputId": "5b578f33-fdd1-4888-efe2-625cab07d7b5"
      },
      "execution_count": 10,
      "outputs": [
        {
          "output_type": "stream",
          "name": "stdout",
          "text": [
            "Digite um número (ou 'sair' para finalizar): 8\n",
            "Digite um número (ou 'sair' para finalizar): 6\n",
            "Digite um número (ou 'sair' para finalizar): 8\n",
            "Digite um número (ou 'sair' para finalizar): sair\n",
            "Você quer sair? (s/n): s\n",
            "A média dos números inseridos é: 7.33\n"
          ]
        }
      ]
    },
    {
      "cell_type": "markdown",
      "source": [
        "2. Contador de Caracteres\n",
        "Enunciado: Desenvolva um script que conte quantas vezes cada caractere aparece em uma string fornecida pelo usuário. O programa deve ignorar espaços e diferenciar maiúsculas de minúsculas.\n",
        "\n",
        "EXPLICAÇÃO:\n",
        "- contar_caracteres: Recebe uma string como entrada e conta a ocorrência de cada caractere.\n",
        "- contagem: Usado para armazenar o número de vezes que cada caractere aparece.\n",
        "- for: Itera sobre cada caractere na string fornecida pelo usuário."
      ],
      "metadata": {
        "id": "1Q2EOUv_ZKbk"
      }
    },
    {
      "cell_type": "code",
      "source": [
        "def contar_caracteres(string):\n",
        "    contagem = {}\n",
        "\n",
        "    for caractere in string:\n",
        "        if caractere != ' ':\n",
        "            if caractere in contagem:\n",
        "                contagem[caractere] += 1\n",
        "            else:\n",
        "                contagem[caractere] = 1\n",
        "\n",
        "    return contagem\n",
        "\n",
        "\n",
        "entrada = input(\"Digite uma string: \")\n",
        "\n",
        "\n",
        "resultado = contar_caracteres(entrada)\n",
        "\n",
        "print(\"Contagem de caracteres:\")\n",
        "for caractere, quantidade in resultado.items():\n",
        "    print(f\"'{caractere}': {quantidade}\")\n"
      ],
      "metadata": {
        "colab": {
          "base_uri": "https://localhost:8080/"
        },
        "id": "2xqqK7iuZJV8",
        "outputId": "1127137f-21bf-42ac-ccab-b18e8e124b30"
      },
      "execution_count": 11,
      "outputs": [
        {
          "output_type": "stream",
          "name": "stdout",
          "text": [
            "Digite uma string: eu amo o brasil!\n",
            "Contagem de caracteres:\n",
            "'e': 1\n",
            "'u': 1\n",
            "'a': 2\n",
            "'m': 1\n",
            "'o': 2\n",
            "'b': 1\n",
            "'r': 1\n",
            "'s': 1\n",
            "'i': 1\n",
            "'l': 1\n",
            "'!': 1\n"
          ]
        }
      ]
    },
    {
      "cell_type": "markdown",
      "source": [
        "3. Verificador de Palíndromo\n",
        "Enunciado: Escreva um programa que verifique se uma palavra ou frase (ignorando espaços e pontuações) é um palíndromo, ou seja, se ela é igual quando lida de trás para frente.\n",
        "\n",
        "EXPLICAÇÃO:\n",
        "- eh_palindromo: Verifica se a palavra ou frase fornecida é um palíndromo.\n",
        "- char.isalnum() verifica se o caractere é alfanumérico (letras e números), ignorando espaços e pontuações.\n",
        "- char.lower() converte todos os caracteres para minúsculas para garantir que a verificação seja case-insensitive.\n",
        "- ''.join(...) junta os caracteres filtrados em uma nova string limpa."
      ],
      "metadata": {
        "id": "v7vpcCJCajek"
      }
    },
    {
      "cell_type": "code",
      "source": [
        "def eh_palindromo(texto):\n",
        "    texto_limpo = ''.join(char.lower() for char in texto if char.isalnum())\n",
        "\n",
        "    return texto_limpo == texto_limpo[::-1]\n",
        "\n",
        "entrada = input(\"Digite uma palavra ou frase: \")\n",
        "\n",
        "if eh_palindromo(entrada):\n",
        "    print(\"É um palíndromo!\")\n",
        "else:\n",
        "    print(\"Não é um palíndromo.\")\n"
      ],
      "metadata": {
        "colab": {
          "base_uri": "https://localhost:8080/"
        },
        "id": "lKZ-9DspagxF",
        "outputId": "3603f688-ec6b-4082-c7e2-6c9c947662f5"
      },
      "execution_count": 13,
      "outputs": [
        {
          "output_type": "stream",
          "name": "stdout",
          "text": [
            "Digite uma palavra ou frase: asa\n",
            "É um palíndromo!\n"
          ]
        }
      ]
    },
    {
      "cell_type": "markdown",
      "source": [
        "4. Conversor de Temperatura\n",
        "Enunciado: Crie um conversor que transforme temperaturas de Celsius para Fahrenheit e vice-versa. O programa deve permitir que o usuário escolha o tipo de conversão e insira a temperatura.\n",
        "\n",
        "EXPLICAÇÃO:\n",
        "- celsius_para_fahrenheit(celsius): Converte uma temperatura de Celsius para Fahrenheit.\n",
        "- fahrenheit_para_celsius(fahrenheit): Converte uma temperatura de Fahrenheit para Celsius.\n",
        "- Função conversor_de_temperatura: Exibe um menu para o usuário escolher o tipo de conversão; Solicita ao usuário que insira sua escolha (1 para Celsius para Fahrenheit, 2 para Fahrenheit para Celsius); Verifica a escolha e solicita a temperatura apropriada; Realiza a conversão chamando a função correspondente e exibe o resultado.\n"
      ],
      "metadata": {
        "id": "uYHU74ppbm1w"
      }
    },
    {
      "cell_type": "code",
      "source": [
        "def celsius_para_fahrenheit(celsius):\n",
        "    return (celsius * 9/5) + 32\n",
        "\n",
        "def fahrenheit_para_celsius(fahrenheit):\n",
        "    return (fahrenheit - 32) * 5/9\n",
        "\n",
        "def conversor_de_temperatura():\n",
        "    print(\"Escolha o tipo de conversão:\")\n",
        "    print(\"1. Celsius para Fahrenheit\")\n",
        "    print(\"2. Fahrenheit para Celsius\")\n",
        "\n",
        "    escolha = input(\"Digite 1 ou 2: \")\n",
        "\n",
        "    if escolha == '1':\n",
        "        celsius = float(input(\"Digite a temperatura em Celsius: \"))\n",
        "        fahrenheit = celsius_para_fahrenheit(celsius)\n",
        "        print(f\"{celsius:.2f}°C é igual a {fahrenheit:.2f}°F\")\n",
        "    elif escolha == '2':\n",
        "        fahrenheit = float(input(\"Digite a temperatura em Fahrenheit: \"))\n",
        "        celsius = fahrenheit_para_celsius(fahrenheit)\n",
        "        print(f\"{fahrenheit:.2f}°F é igual a {celsius:.2f}°C\")\n",
        "    else:\n",
        "        print(\"Escolha inválida. Por favor, digite 1 ou 2.\")\n",
        "\n",
        "conversor_de_temperatura()\n"
      ],
      "metadata": {
        "colab": {
          "base_uri": "https://localhost:8080/"
        },
        "id": "NdBWsFFfbtas",
        "outputId": "c8d06615-e73a-4305-fce4-ae47178301f3"
      },
      "execution_count": 14,
      "outputs": [
        {
          "output_type": "stream",
          "name": "stdout",
          "text": [
            "Escolha o tipo de conversão:\n",
            "1. Celsius para Fahrenheit\n",
            "2. Fahrenheit para Celsius\n",
            "Digite 1 ou 2: 1\n",
            "Digite a temperatura em Celsius: 24\n",
            "24.00°C é igual a 75.20°F\n"
          ]
        }
      ]
    },
    {
      "cell_type": "markdown",
      "source": [
        "5. Gerador de Tabuada\n",
        "Enunciado: Desenvolva um programa que gere a tabuada de um número fornecido pelo usuário. O programa deve exibir a multiplicação de 1 até 10 para o número informado.\n",
        "\n",
        "EXPLICAÇÃO:\n",
        "Função gerar_tabuada(numero): Recebe um número como argumento e gera a tabuada de 1 a 10 para esse número; Usa um loop for para iterar de 1 até 10; Para cada iteração, calcula o resultado da multiplicação e o imprime."
      ],
      "metadata": {
        "id": "9IWzRhQycdyd"
      }
    },
    {
      "cell_type": "code",
      "source": [
        "def gerar_tabuada(numero):\n",
        "    print(f\"Tabuada de {numero}:\")\n",
        "    for i in range(1, 11):\n",
        "        resultado = numero * i\n",
        "        print(f\"{numero} x {i} = {resultado}\")\n",
        "\n",
        "numero = int(input(\"Digite um número para gerar a tabuada: \"))\n",
        "\n",
        "gerar_tabuada(numero)\n"
      ],
      "metadata": {
        "colab": {
          "base_uri": "https://localhost:8080/"
        },
        "id": "w65hn-a6ckhN",
        "outputId": "e76317f4-f458-490f-8c71-faee1ce58612"
      },
      "execution_count": 15,
      "outputs": [
        {
          "output_type": "stream",
          "name": "stdout",
          "text": [
            "Digite um número para gerar a tabuada: 7\n",
            "Tabuada de 7:\n",
            "7 x 1 = 7\n",
            "7 x 2 = 14\n",
            "7 x 3 = 21\n",
            "7 x 4 = 28\n",
            "7 x 5 = 35\n",
            "7 x 6 = 42\n",
            "7 x 7 = 49\n",
            "7 x 8 = 56\n",
            "7 x 9 = 63\n",
            "7 x 10 = 70\n"
          ]
        }
      ]
    },
    {
      "cell_type": "markdown",
      "source": [
        "6. Simulador de Lançamento de Dados\n",
        "Enunciado: Escreva um script que simule o lançamento de um dado de 6 faces. O programa deve solicitar ao usuário quantas vezes ele deseja lançar o dado e mostrar os resultados de cada lançamento.\n",
        "\n",
        "EXPLICAÇÃO:\n",
        "- Importação da Biblioteca random: Utilizada para gerar números aleatórios, simulando o lançamento do dado.\n",
        "- Função simular_lancamento_dados(quantidade_lancamentos): Recebe como argumento o número de vezes que o dado deve ser lançado; Usa um loop for para realizar o número de lançamentos especificado; random.randint(1, 6) gera um número aleatório entre 1 e 6, representando o resultado de cada lançamento.\n",
        "Cada resultado é armazenado em uma lista resultados e também exibido na tela."
      ],
      "metadata": {
        "id": "hiV3QPMIdBBV"
      }
    },
    {
      "cell_type": "code",
      "source": [
        "import random\n",
        "\n",
        "def simular_lancamento_dados(quantidade_lancamentos):\n",
        "    resultados = []\n",
        "\n",
        "    for _ in range(quantidade_lancamentos):\n",
        "        resultado = random.randint(1, 6)\n",
        "        resultados.append(resultado)\n",
        "        print(f\"Resultado do lançamento: {resultado}\")\n",
        "\n",
        "    return resultados\n",
        "\n",
        "try:\n",
        "    quantidade = int(input(\"Quantas vezes você deseja lançar o dado? \"))\n",
        "    if quantidade <= 0:\n",
        "        print(\"Por favor, insira um número positivo.\")\n",
        "    else:\n",
        "        simular_lancamento_dados(quantidade)\n",
        "except ValueError:\n",
        "    print(\"Entrada inválida. Por favor, insira um número inteiro.\")\n"
      ],
      "metadata": {
        "colab": {
          "base_uri": "https://localhost:8080/"
        },
        "id": "xOxag5fzdGnN",
        "outputId": "abb27d75-2471-4ecc-c61d-d31d808902da"
      },
      "execution_count": 21,
      "outputs": [
        {
          "output_type": "stream",
          "name": "stdout",
          "text": [
            "Quantas vezes você deseja lançar o dado? 7\n",
            "Resultado do lançamento: 6\n",
            "Resultado do lançamento: 1\n",
            "Resultado do lançamento: 4\n",
            "Resultado do lançamento: 4\n",
            "Resultado do lançamento: 3\n",
            "Resultado do lançamento: 5\n",
            "Resultado do lançamento: 4\n"
          ]
        }
      ]
    },
    {
      "cell_type": "markdown",
      "source": [
        "7. Ordenação de Lista\n",
        "Enunciado: Desenvolva um programa que receba uma lista de números do usuário e ordene essa lista em ordem crescente. O programa deve exibir a lista antes e depois da ordenação.\n",
        "\n",
        "EXPLICAÇÃO:\n",
        "-Função ordenar_lista(numeros): Recebe uma lista de números como argumento; Exibe a lista original antes da ordenação; Utiliza a função sorted() para ordenar a lista em ordem crescente; Exibe a lista ordenada.\n",
        "- A entrada é convertida para uma lista de números utilizando map(float, entrada.split()).\n",
        "- split() divide a string de entrada em substrings, criando uma lista de strings.\n",
        "- map(float, ...) converte cada elemento da lista para um número do tipo float.\n",
        "- O programa usa um bloco try-except para lidar com entradas inválidas."
      ],
      "metadata": {
        "id": "vyZeMCS3d00e"
      }
    },
    {
      "cell_type": "code",
      "source": [
        "def ordenar_lista(numeros):\n",
        "    print(f\"Lista antes da ordenação: {numeros}\")\n",
        "\n",
        "    numeros_ordenados = sorted(numeros)\n",
        "\n",
        "    print(f\"Lista depois da ordenação: {numeros_ordenados}\")\n",
        "\n",
        "entrada = input(\"Digite uma lista de números separados por espaço: \")\n",
        "\n",
        "try:\n",
        "    lista_numeros = list(map(float, entrada.split()))\n",
        "    ordenar_lista(lista_numeros)\n",
        "except ValueError:\n",
        "    print(\"Por favor, insira apenas números separados por espaço.\")\n"
      ],
      "metadata": {
        "colab": {
          "base_uri": "https://localhost:8080/"
        },
        "id": "hGsNE629eH0W",
        "outputId": "cd01e139-2b29-4f4f-9dc5-90c4d3cfdc8c"
      },
      "execution_count": 20,
      "outputs": [
        {
          "output_type": "stream",
          "name": "stdout",
          "text": [
            "Digite uma lista de números separados por espaço: 1 6 8 7 3 2 8 9 6 \n",
            "Lista antes da ordenação: [1.0, 6.0, 8.0, 7.0, 3.0, 2.0, 8.0, 9.0, 6.0]\n",
            "Lista depois da ordenação: [1.0, 2.0, 3.0, 6.0, 6.0, 7.0, 8.0, 8.0, 9.0]\n"
          ]
        }
      ]
    },
    {
      "cell_type": "markdown",
      "source": [
        "8. Verificador de Números Primos\n",
        "Enunciado: Crie um programa que determine se um número fornecido pelo usuário é primo. O programa deve informar se o número é primo ou não e listar todos os divisores do número.\n",
        "\n",
        "EXPLICAÇÃO:\n",
        "- Função verificar_primo(numero): Recebe um número e determina se ele é primo; Se o número é menor ou igual a 1, retorna False (não é primo); Verifica divisibilidade usando um loop até a raiz quadrada do número (int(numero**0.5) + 1). Isso é mais eficiente do que verificar até o próprio número; Se encontrar algum divisor além de 1 e o próprio número, retorna False; caso contrário, retorna True.\n",
        "- Função listar_divisores(numero): Recebe um número e gera uma lista de seus divisores; Utiliza uma compreensão de lista para encontrar todos os números entre 1 e o próprio número que são divisores."
      ],
      "metadata": {
        "id": "_Tf_X91SfvKE"
      }
    },
    {
      "cell_type": "code",
      "source": [
        "def verificar_primo(numero):\n",
        "    divisores = []\n",
        "\n",
        "    for i in range(1, numero + 1):\n",
        "        if numero % i == 0:\n",
        "            divisores.append(i)\n",
        "\n",
        "    if len(divisores) == 2:\n",
        "        return True, divisores\n",
        "    else:\n",
        "        return False, divisores\n",
        "\n",
        "try:\n",
        "    numero = int(input(\"Digite um número para verificar se é primo: \"))\n",
        "\n",
        "    eh_primo, divisores = verificar_primo(numero)\n",
        "\n",
        "    if eh_primo:\n",
        "        print(f\"O número {numero} é primo.\")\n",
        "    else:\n",
        "        print(f\"O número {numero} não é primo.\")\n",
        "        print(f\"Divisores de {numero}: {divisores}\")\n",
        "\n",
        "except ValueError:\n",
        "    print(\"Por favor, insira um número inteiro válido.\")\n"
      ],
      "metadata": {
        "colab": {
          "base_uri": "https://localhost:8080/"
        },
        "id": "hitR_HA2fuoz",
        "outputId": "c724dac1-7e81-45ec-abc2-27ee2f06364b"
      },
      "execution_count": 24,
      "outputs": [
        {
          "output_type": "stream",
          "name": "stdout",
          "text": [
            "Digite um número para verificar se é primo: 7\n",
            "O número 7 é primo.\n"
          ]
        }
      ]
    },
    {
      "cell_type": "markdown",
      "source": [
        "9. Sistema de Login Simples\n",
        "Enunciado: Implemente um sistema de login simples que armazene os nomes de usuário e senhas em um dicionário. O programa deve permitir que o usuário se cadastre e faça login, validando as credenciais inseridas.\n",
        "\n",
        "EXPLICAÇÃO:\n",
        "- Função cadastrar_usuario(usuarios): Solicita ao usuário um nome de usuário e uma senha; Verifica se o nome de usuário já está cadastrado no dicionário; Se não estiver, adiciona o nome de usuário e a senha ao dicionário e confirma o cadastro.\n",
        "- Função fazer_login(usuarios): Solicita ao usuário o nome de usuário e a senha para login; Verifica se as credenciais fornecidas correspondem às armazenadas no dicionário; Exibe uma mensagem de sucesso se as credenciais forem válidas ou uma mensagem de erro caso contrário.\n",
        "- Função sistema_login(): Contém o loop principal do sistema que exibe um menu de opções para o usuário; Permite ao usuário escolher entre se cadastrar, fazer login ou sair do sistema; Chama as funções apropriadas com base na escolha do usuário.\n"
      ],
      "metadata": {
        "id": "vEa3CGVzhVDW"
      }
    },
    {
      "cell_type": "code",
      "source": [
        "def cadastrar_usuario(usuarios):\n",
        "    nome_usuario = input(\"Digite um nome de usuário: \")\n",
        "    if nome_usuario in usuarios:\n",
        "        print(\"Nome de usuário já cadastrado. Tente novamente.\")\n",
        "        return\n",
        "    senha = input(\"Digite uma senha: \")\n",
        "    usuarios[nome_usuario] = senha\n",
        "    print(\"Cadastro realizado com sucesso!\")\n",
        "\n",
        "def fazer_login(usuarios):\n",
        "    nome_usuario = input(\"Digite seu nome de usuário: \")\n",
        "    senha = input(\"Digite sua senha: \")\n",
        "    if usuarios.get(nome_usuario) == senha:\n",
        "        print(\"Login bem-sucedido!\")\n",
        "    else:\n",
        "        print(\"Nome de usuário ou senha incorretos. Tente novamente.\")\n",
        "\n",
        "def sistema_login():\n",
        "    usuarios = {}\n",
        "\n",
        "    while True:\n",
        "        print(\"\\nMenu:\")\n",
        "        print(\"1. Cadastrar\")\n",
        "        print(\"2. Fazer Login\")\n",
        "        print(\"3. Sair\")\n",
        "\n",
        "        opcao = input(\"Escolha uma opção (1, 2, 3): \")\n",
        "\n",
        "        if opcao == '1':\n",
        "            cadastrar_usuario(usuarios)\n",
        "        elif opcao == '2':\n",
        "            fazer_login(usuarios)\n",
        "        elif opcao == '3':\n",
        "            print(\"Saindo do sistema.\")\n",
        "            break\n",
        "        else:\n",
        "            print(\"Opção inválida. Por favor, escolha 1, 2 ou 3.\")\n",
        "\n",
        "sistema_login()\n"
      ],
      "metadata": {
        "colab": {
          "base_uri": "https://localhost:8080/"
        },
        "id": "Lrhn__zbhUsf",
        "outputId": "50d1853b-f0a1-4be4-ff5a-fdc239c20d3e"
      },
      "execution_count": 26,
      "outputs": [
        {
          "output_type": "stream",
          "name": "stdout",
          "text": [
            "\n",
            "Menu:\n",
            "1. Cadastrar\n",
            "2. Fazer Login\n",
            "3. Sair\n",
            "Escolha uma opção (1, 2, 3): 3\n",
            "Saindo do sistema.\n"
          ]
        }
      ]
    },
    {
      "cell_type": "markdown",
      "source": [
        "10. Calculadora de Fatorial\n",
        "Enunciado: Escreva um programa que calcule o fatorial de um número fornecido pelo usuário utilizando um loop for. O programa deve exibir o resultado do fatorial ao final.\n",
        "\n",
        "EXPLICAÇÃO:\n",
        "- Função calcular_fatorial(numero): Recebe um número como argumento e calcula o fatorial;Verifica se o número é negativo. Se for, retorna uma mensagem informando que o fatorial não é definido para números negativos;Inicializa a variável fatorial com 1; Usa um loop for para multiplicar fatorial por cada número de 1 até o número fornecido (inclusive).\n",
        "Retorna o resultado do fatorial."
      ],
      "metadata": {
        "id": "NhGkTOMniGGH"
      }
    },
    {
      "cell_type": "code",
      "source": [
        "def calcular_fatorial(numero):\n",
        "    if numero < 0:\n",
        "        return \"Fatorial não definido para números negativos.\"\n",
        "\n",
        "    fatorial = 1\n",
        "    for i in range(1, numero + 1):\n",
        "        fatorial *= i\n",
        "\n",
        "    return fatorial\n",
        "\n",
        "try:\n",
        "    numero = int(input(\"Digite um número para calcular o fatorial: \"))\n",
        "\n",
        "    if numero < 0:\n",
        "        print(\"Por favor, insira um número não negativo.\")\n",
        "    else:\n",
        "        resultado = calcular_fatorial(numero)\n",
        "        print(f\"O fatorial de {numero} é {resultado}.\")\n",
        "except ValueError:\n",
        "    print(\"Entrada inválida. Por favor, insira um número inteiro.\")\n"
      ],
      "metadata": {
        "colab": {
          "base_uri": "https://localhost:8080/"
        },
        "id": "-QXlLfHliIOG",
        "outputId": "7875b36e-15e8-49a4-9126-5e120c966c6a"
      },
      "execution_count": 27,
      "outputs": [
        {
          "output_type": "stream",
          "name": "stdout",
          "text": [
            "Digite um número para calcular o fatorial: 6\n",
            "O fatorial de 6 é 720.\n"
          ]
        }
      ]
    },
    {
      "cell_type": "markdown",
      "source": [
        "11. Conversor de Moedas Simples\n",
        "Enunciado: Crie um programa que converta um valor em reais para dólares ou euros. O programa deve permitir que o usuário escolha a moeda de destino e insira o valor a ser convertido, utilizando uma taxa de câmbio fixa definida no código.\n",
        "\n",
        "EXPLICAÇÃO:\n",
        "- Função converter_moeda(valor_reais, taxa_cambio): Recebe o valor em reais e a taxa de câmbio como argumentos; Retorna o valor convertido multiplicando o valor em reais pela taxa de câmbio.\n",
        "\n",
        "- Função conversor_de_moeda(): Define as taxas de câmbio fixas para dólar e euro; Exibe um menu para o usuário escolher a moeda de destino; Solicita ao usuário o valor em reais a ser convertido; Chama a função converter_moeda com a taxa de câmbio apropriada e exibe o resultado; Trata a escolha inválida e informa o usuário."
      ],
      "metadata": {
        "id": "1lWSkeJ3imDI"
      }
    },
    {
      "cell_type": "code",
      "source": [
        "def converter_moeda(valor_reais, taxa_cambio):\n",
        "    return valor_reais * taxa_cambio\n",
        "\n",
        "def conversor_de_moeda():\n",
        "    taxa_dolar = 0.18\n",
        "    taxa_euro = 0.16\n",
        "\n",
        "    print(\"Escolha a moeda para conversão:\")\n",
        "    print(\"1. Dólar\")\n",
        "    print(\"2. Euro\")\n",
        "\n",
        "    escolha = input(\"Digite 1 ou 2: \")\n",
        "\n",
        "    if escolha == '1':\n",
        "        valor_reais = float(input(\"Digite o valor em reais: \"))\n",
        "        valor_convertido = converter_moeda(valor_reais, taxa_dolar)\n",
        "        print(f\"{valor_reais:.2f} reais é igual a {valor_convertido:.2f} dólares.\")\n",
        "    elif escolha == '2':\n",
        "        valor_reais = float(input(\"Digite o valor em reais: \"))\n",
        "        valor_convertido = converter_moeda(valor_reais, taxa_euro)\n",
        "        print(f\"{valor_reais:.2f} reais é igual a {valor_convertido:.2f} euros.\")\n",
        "    else:\n",
        "        print(\"Escolha inválida. Por favor, digite 1 ou 2.\")\n",
        "\n",
        "conversor_de_moeda()\n"
      ],
      "metadata": {
        "colab": {
          "base_uri": "https://localhost:8080/"
        },
        "id": "oY_QAvcdikWP",
        "outputId": "48347168-d29c-4e86-9f2d-5d89952fde34"
      },
      "execution_count": 29,
      "outputs": [
        {
          "output_type": "stream",
          "name": "stdout",
          "text": [
            "Escolha a moeda para conversão:\n",
            "1. Dólar\n",
            "2. Euro\n",
            "Digite 1 ou 2: 2\n",
            "Digite o valor em reais: 1\n",
            "1.00 reais é igual a 0.16 euros.\n"
          ]
        }
      ]
    },
    {
      "cell_type": "markdown",
      "source": [
        "12. Contador de Palavras\n",
        "Enunciado: Desenvolva um script que conte o número de palavras em uma frase fornecida pelo usuário. O programa deve ignorar pontuações e considerar apenas as palavras separadas por espaços.\n",
        "\n",
        "EXPLICAÇÃO:\n",
        "- Função contar_palavras(frase): Usa str.translate() e str.maketrans() para remover pontuações da frase. string.punctuation fornece um conjunto de caracteres de pontuação; Converte a frase para minúsculas com lower() para garantir que a contagem não seja sensível a maiúsculas/minúsculas; Usa split() para dividir a frase em palavras, considerando espaços como delimitadores; Calcula o número de palavras com len()."
      ],
      "metadata": {
        "id": "7TXA1suUjqMs"
      }
    },
    {
      "cell_type": "code",
      "source": [
        "import string\n",
        "\n",
        "def contar_palavras(frase):\n",
        "    frase_limpa = frase.translate(str.maketrans('', '', string.punctuation)).lower()\n",
        "\n",
        "    palavras = frase_limpa.split()\n",
        "\n",
        "    numero_de_palavras = len(palavras)\n",
        "\n",
        "    return numero_de_palavras\n",
        "\n",
        "frase = input(\"Digite uma frase: \")\n",
        "\n",
        "numero_palavras = contar_palavras(frase)\n",
        "print(f\"Número de palavras na frase: {numero_palavras}\")\n"
      ],
      "metadata": {
        "colab": {
          "base_uri": "https://localhost:8080/"
        },
        "id": "Paoe03F4jp-8",
        "outputId": "1f16bf34-764e-4e9a-d138-a35a6f5b016b"
      },
      "execution_count": 30,
      "outputs": [
        {
          "output_type": "stream",
          "name": "stdout",
          "text": [
            "Digite uma frase: EU AMO O BRASIL\n",
            "Número de palavras na frase: 4\n"
          ]
        }
      ]
    },
    {
      "cell_type": "markdown",
      "source": [
        "13. Gerador de Números Aleatórios\n",
        "Enunciado: Escreva um programa que gere n números aleatórios entre um intervalo fornecido pelo usuário. O programa deve solicitar o valor de n e os limites inferior e superior do intervalo.\n",
        "\n",
        "EXPLICAÇÃO:\n",
        "- Função gerar_numeros_aleatorios(n, limite_inferior, limite_superior): Recebe o número de valores (n), o limite inferior e o limite superior do intervalo; Usa uma compreensão de lista para gerar n números aleatórios dentro do intervalo especificado. random.randint(limite_inferior, limite_superior) é usado para gerar cada número aleatório."
      ],
      "metadata": {
        "id": "BWaLXRkykGPu"
      }
    },
    {
      "cell_type": "code",
      "source": [
        "import random\n",
        "\n",
        "def gerar_numeros_aleatorios(n, limite_inferior, limite_superior):\n",
        "    numeros = [random.randint(limite_inferior, limite_superior) for _ in range(n)]\n",
        "    return numeros\n",
        "\n",
        "# Solicita a entrada do usuário\n",
        "try:\n",
        "    n = int(input(\"Digite o número a ser gerado: \"))\n",
        "    limite_inferior = int(input(\"Digite um número x de início: \"))\n",
        "    limite_superior = int(input(\"Digite um número x de fim: \"))\n",
        "\n",
        "    if n <= 0 or limite_inferior > limite_superior:\n",
        "        print(\"Número de valores deve ser positivo e o limite inferior deve ser menor ou igual ao limite superior.\")\n",
        "    else:\n",
        "        numeros_aleatorios = gerar_numeros_aleatorios(n, limite_inferior, limite_superior)\n",
        "        print(f\"Números aleatórios gerados: {numeros_aleatorios}\")\n",
        "except ValueError:\n",
        "    print(\"Entrada inválida. Por favor, insira apenas números inteiros.\")\n"
      ],
      "metadata": {
        "colab": {
          "base_uri": "https://localhost:8080/"
        },
        "id": "wRtJjURUkQHt",
        "outputId": "e875cd79-5e57-4df2-faab-8d554e9c008b"
      },
      "execution_count": 34,
      "outputs": [
        {
          "output_type": "stream",
          "name": "stdout",
          "text": [
            "Digite o número a ser gerado: 40\n",
            "Digite um número x de início: 1\n",
            "Digite um número x de fim: 100\n",
            "Números aleatórios gerados: [54, 59, 77, 2, 61, 25, 8, 41, 13, 23, 42, 4, 54, 23, 51, 96, 9, 32, 10, 4, 76, 57, 16, 41, 91, 47, 43, 87, 17, 30, 45, 80, 69, 18, 73, 50, 42, 80, 11, 86]\n"
          ]
        }
      ]
    },
    {
      "cell_type": "markdown",
      "source": [
        "14. Calculadora de Média Ponderada\n",
        "Enunciado: Implemente uma calculadora que permita ao usuário calcular a média ponderada de um conjunto de notas. O usuário deve inserir as notas e os respectivos pesos, e o programa deve calcular e exibir a média ponderada.\n",
        "\n",
        "EXPLICAÇÃO:\n",
        "- Função calcular_media_ponderada(notas, pesos): Recebe duas listas: uma com as notas e outra com os pesos correspondentes; Usa zip(notas, pesos) para combinar as notas com seus respectivos pesos; Calcula a soma dos produtos das notas pelos pesos; Calcula a soma dos pesos; Divide a soma dos produtos pela soma dos pesos para obter a média ponderada; Retorna a média ponderada."
      ],
      "metadata": {
        "id": "UokftQs1lrVO"
      }
    },
    {
      "cell_type": "code",
      "source": [
        "def calcular_media_ponderada(notas, pesos):\n",
        "    soma_produtos = sum(nota * peso for nota, peso in zip(notas, pesos))\n",
        "\n",
        "    soma_pesos = sum(pesos)\n",
        "\n",
        "    if soma_pesos == 0:\n",
        "        return 0\n",
        "    media_ponderada = soma_produtos / soma_pesos\n",
        "\n",
        "    return media_ponderada\n",
        "\n",
        "try:\n",
        "    notas = list(map(float, input(\"Digite as notas separadas por espaço: \").split()))\n",
        "    pesos = list(map(float, input(\"Digite os pesos correspondentes separados por espaço: \").split()))\n",
        "\n",
        "    if len(notas) != len(pesos):\n",
        "        print(\"O número de notas deve ser igual ao número de pesos.\")\n",
        "    else:\n",
        "        media = calcular_media_ponderada(notas, pesos)\n",
        "        print(f\"A média ponderada é: {media:.2f}\")\n",
        "except ValueError:\n",
        "    print(\"Entrada inválida. Por favor, insira apenas números.\")\n"
      ],
      "metadata": {
        "colab": {
          "base_uri": "https://localhost:8080/"
        },
        "id": "RsxIG-YvlzF_",
        "outputId": "02df63f4-54bc-495d-a238-b93fbe9c85e7"
      },
      "execution_count": 35,
      "outputs": [
        {
          "output_type": "stream",
          "name": "stdout",
          "text": [
            "Digite as notas separadas por espaço: 10 5 7\n",
            "Digite os pesos correspondentes separados por espaço: 60 10 30\n",
            "A média ponderada é: 8.60\n"
          ]
        }
      ]
    },
    {
      "cell_type": "markdown",
      "source": [
        "15. Cálculo de Raiz Quadrada\n",
        "Enunciado: Desenvolva um programa que calcule a raiz quadrada de um número fornecido pelo usuário. Utilize a função sqrt() do módulo math e exiba o resultado.\n",
        "\n",
        "EXPLICAÇÃO:\n",
        "- Função calcular_raiz_quadrada(numero): Usa a função math.sqrt() do módulo math para calcular a raiz quadrada do número fornecido; Converte a entrada para um número de ponto flutuante (float); Usa um bloco try-except para lidar com entradas inválidas (não numéricas)."
      ],
      "metadata": {
        "id": "7vsPRug1mZ5Y"
      }
    },
    {
      "cell_type": "code",
      "source": [
        "import math\n",
        "\n",
        "def calcular_raiz_quadrada(numero):\n",
        "    return math.sqrt(numero)\n",
        "\n",
        "try:\n",
        "    numero = float(input(\"Digite um número para calcular a raiz quadrada: \"))\n",
        "\n",
        "    if numero < 0:\n",
        "        print(\"Não é possível calcular a raiz quadrada de um número negativo.\")\n",
        "    else:\n",
        "        raiz_quadrada = calcular_raiz_quadrada(numero)\n",
        "        print(f\"A raiz quadrada de {numero} é {raiz_quadrada:.2f}.\")\n",
        "except ValueError:\n",
        "    print(\"Entrada inválida. Por favor, insira um número válido.\")\n"
      ],
      "metadata": {
        "colab": {
          "base_uri": "https://localhost:8080/"
        },
        "id": "7GU4fyzlmphB",
        "outputId": "17485f50-255b-4f2a-c871-4cb9adcd48ee"
      },
      "execution_count": 36,
      "outputs": [
        {
          "output_type": "stream",
          "name": "stdout",
          "text": [
            "Digite um número para calcular a raiz quadrada: 64\n",
            "A raiz quadrada de 64.0 é 8.00.\n"
          ]
        }
      ]
    },
    {
      "cell_type": "markdown",
      "source": [
        "16. Simulador de Caixa Eletrônico\n",
        "Enunciado: Crie um programa que simule um caixa eletrônico. O usuário deve inserir o valor que deseja sacar, e o programa deve exibir quantas notas de cada valor serão entregues (R$100, R$50, R$20, R$10).\n",
        "\n",
        "EXPLICAÇÃO:\n",
        "- Função calcular_notas(valor): Define uma lista com os valores das notas disponíveis (R$100, R$50, R$20, R$10); Usa um dicionário para armazenar a quantidade de cada nota que será entregue; Verifica se o valor é maior que zero e se pode ser atendido com as notas disponíveis; Se o valor não for divisível pelo menor valor de nota, retorna uma mensagem indicando que o valor não está disponível; Calcula quantas notas de cada valor são necessárias, atualiza o dicionário resultado e ajusta o valor a ser sacado; Converte a entrada para um número inteiro (int); Usa um bloco try-except para lidar com entradas inválidas (não inteiras)."
      ],
      "metadata": {
        "id": "8OVbOgAum69a"
      }
    },
    {
      "cell_type": "code",
      "source": [
        "def calcular_notas(valor):\n",
        "    notas = [100, 50, 20, 10]\n",
        "\n",
        "    resultado = {}\n",
        "\n",
        "    if valor <= 0:\n",
        "        return \"Valor deve ser maior que zero.\"\n",
        "\n",
        "    if valor % min(notas) != 0:\n",
        "        return \"Esse valor não está disponível.\"\n",
        "\n",
        "    for nota in notas:\n",
        "        quantidade_notas = valor // nota\n",
        "        if quantidade_notas > 0:\n",
        "            resultado[nota] = quantidade_notas\n",
        "            valor %= nota\n",
        "\n",
        "    return resultado\n",
        "\n",
        "try:\n",
        "    valor_saque = int(input(\"Digite o valor que deseja sacar: \"))\n",
        "\n",
        "    notas_entregues = calcular_notas(valor_saque)\n",
        "\n",
        "    if isinstance(notas_entregues, dict):\n",
        "        print(\"Notas entregues:\")\n",
        "        for nota, quantidade in notas_entregues.items():\n",
        "            print(f\"R${nota}: {quantidade} nota(s)\")\n",
        "    else:\n",
        "        print(notas_entregues)\n",
        "except ValueError:\n",
        "    print(\"Entrada inválida. Por favor, insira um valor inteiro.\")\n"
      ],
      "metadata": {
        "colab": {
          "base_uri": "https://localhost:8080/"
        },
        "id": "MZaMN0bEm7jL",
        "outputId": "8c26f715-c612-4f87-8e95-a71beb22ea91"
      },
      "execution_count": 42,
      "outputs": [
        {
          "output_type": "stream",
          "name": "stdout",
          "text": [
            "Digite o valor que deseja sacar: 56\n",
            "Esse valor não está disponível.\n"
          ]
        }
      ]
    },
    {
      "cell_type": "markdown",
      "source": [
        "17. Verificador de Ano Bissexto\n",
        "Enunciado: Escreva um programa que determine se um ano fornecido pelo usuário é bissexto. O programa deve seguir as regras para anos bissextos (divisíveis por 4, exceto se divisíveis por 100, mas divisíveis por 400).\n",
        "\n",
        "EXPLICAÇÃO:\n",
        "- Função e_bissexto(ano): Verifica se o ano atende às condições para ser bissexto: O ano deve ser divisível por 4 (ano % 4 == 0); Se o ano for divisível por 100, ele também deve ser divisível por 400 para ser bissexto (ano % 400 == 0); Retorna True se o ano for bissexto e False caso contrário."
      ],
      "metadata": {
        "id": "Iab16_NopJiI"
      }
    },
    {
      "cell_type": "code",
      "source": [
        "def e_bissexto(ano):\n",
        "\n",
        "    return (ano % 4 == 0 and ano % 100 != 0) or (ano % 400 == 0)\n",
        "\n",
        "try:\n",
        "    ano = int(input(\"Digite um ano para verificar se é bissexto: \"))\n",
        "\n",
        "    if e_bissexto(ano):\n",
        "        print(f\"O ano {ano} é bissexto.\")\n",
        "    else:\n",
        "        print(f\"O ano {ano} não é bissexto.\")\n",
        "except ValueError:\n",
        "    print(\"Entrada inválida. Por favor, insira um ano válido.\")\n"
      ],
      "metadata": {
        "colab": {
          "base_uri": "https://localhost:8080/"
        },
        "id": "bhOecITdpJv4",
        "outputId": "c5c4c7a6-a4f0-4236-8a9f-2a7155f68d14"
      },
      "execution_count": 44,
      "outputs": [
        {
          "output_type": "stream",
          "name": "stdout",
          "text": [
            "Digite um ano para verificar se é bissexto: 2025\n",
            "O ano 2025 não é bissexto.\n"
          ]
        }
      ]
    },
    {
      "cell_type": "markdown",
      "source": [
        "18. Gerenciador de Contatos Simples\n",
        "Enunciado: Desenvolva um sistema simples para gerenciar contatos, onde o usuário pode adicionar, remover e listar contatos (nome e telefone). Utilize um dicionário para armazenar os contatos.\n",
        "\n",
        "EXPLICAÇÃO:\n",
        "- Função adicionar_contato(contatos, nome, telefone): Adiciona um contato ao dicionário contatos com o nome como chave e o telefone como valor; Imprime uma mensagem de confirmação.\n",
        "\n",
        "- Função remover_contato(contatos, nome): Remove um contato do dicionário contatos se o nome existir; Imprime uma mensagem de confirmação ou erro se o contato não for encontrado.\n",
        "\n",
        "- Função listar_contatos(contatos): Exibe todos os contatos armazenados no dicionário contatos; Imprime uma mensagem informando que nenhum contato foi cadastrado se o dicionário estiver vazio.\n",
        "\n",
        "- Função gerenciador_de_contatos(): Mantém um loop para exibir o menu e processar as opções do usuário; Solicita ao usuário que escolha uma opção e chama a função apropriada com base na escolha; Permite ao usuário adicionar, remover, listar contatos ou sair do programa."
      ],
      "metadata": {
        "id": "s772s60-pyZ6"
      }
    },
    {
      "cell_type": "code",
      "source": [
        "def adicionar_contato(contatos, nome, telefone):\n",
        "    contatos[nome] = telefone\n",
        "    print(f\"Contato '{nome}' adicionado com sucesso.\")\n",
        "\n",
        "def remover_contato(contatos, nome):\n",
        "    if nome in contatos:\n",
        "        del contatos[nome]\n",
        "        print(f\"Contato '{nome}' removido com sucesso.\")\n",
        "    else:\n",
        "        print(f\"Contato '{nome}' não encontrado.\")\n",
        "\n",
        "def listar_contatos(contatos):\n",
        "    if not contatos:\n",
        "        print(\"Nenhum contato cadastrado.\")\n",
        "    else:\n",
        "        print(\"Lista de Contatos:\")\n",
        "        for nome, telefone in contatos.items():\n",
        "            print(f\"Nome: {nome}, Telefone: {telefone}\")\n",
        "\n",
        "def gerenciador_de_contatos():\n",
        "    contatos = {}\n",
        "\n",
        "    while True:\n",
        "        print(\"\\nEscolha uma opção:\")\n",
        "        print(\"1. Adicionar Contato\")\n",
        "        print(\"2. Remover Contato\")\n",
        "        print(\"3. Listar Contatos\")\n",
        "        print(\"4. Sair\")\n",
        "\n",
        "        escolha = input(\"Digite o número da opção desejada: \")\n",
        "\n",
        "        if escolha == '1':\n",
        "            nome = input(\"Digite o nome do contato: \")\n",
        "            telefone = input(\"Digite o telefone do contato: \")\n",
        "            adicionar_contato(contatos, nome, telefone)\n",
        "        elif escolha == '2':\n",
        "            nome = input(\"Digite o nome do contato a ser removido: \")\n",
        "            remover_contato(contatos, nome)\n",
        "        elif escolha == '3':\n",
        "            listar_contatos(contatos)\n",
        "        elif escolha == '4':\n",
        "            print(\"Saindo...\")\n",
        "            break\n",
        "        else:\n",
        "            print(\"Opção inválida. Por favor, escolha uma opção válida.\")\n",
        "\n",
        "gerenciador_de_contatos()\n"
      ],
      "metadata": {
        "colab": {
          "base_uri": "https://localhost:8080/"
        },
        "id": "armO4fPAp4dZ",
        "outputId": "2e533f83-9d83-491a-c57e-e31fd7a3525b"
      },
      "execution_count": 46,
      "outputs": [
        {
          "output_type": "stream",
          "name": "stdout",
          "text": [
            "\n",
            "Escolha uma opção:\n",
            "1. Adicionar Contato\n",
            "2. Remover Contato\n",
            "3. Listar Contatos\n",
            "4. Sair\n",
            "Digite o número da opção desejada: 4\n",
            "Saindo...\n"
          ]
        }
      ]
    },
    {
      "cell_type": "markdown",
      "source": [
        "19. Calculadora de Desconto\n",
        "Enunciado: Crie um programa que calcule o preço final de um produto após a aplicação de um desconto. O usuário deve inserir o preço original e a porcentagem de desconto, e o programa deve exibir o preço final.\n",
        "\n",
        "EXPLICAÇÃO:\n",
        "- Função calcular_preco_final(preco_original, porcentagem_desconto): Calcula o valor do desconto multiplicando o preço original pela porcentagem de desconto dividida por 100; Subtrai o valor do desconto do preço original para obter o preço final; Retorna o preço final após o desconto."
      ],
      "metadata": {
        "id": "NJDRF__eqtxk"
      }
    },
    {
      "cell_type": "code",
      "source": [
        "def calcular_preco_final(preco_original, porcentagem_desconto):\n",
        "    desconto = preco_original * (porcentagem_desconto / 100)\n",
        "\n",
        "    preco_final = preco_original - desconto\n",
        "\n",
        "    return preco_final\n",
        "\n",
        "try:\n",
        "    preco_original = float(input(\"Digite o preço original do produto: R$\"))\n",
        "    porcentagem_desconto = float(input(\"Digite a porcentagem de desconto: \"))\n",
        "\n",
        "    if preco_original < 0 or porcentagem_desconto < 0:\n",
        "        print(\"O preço e a porcentagem de desconto devem ser valores positivos.\")\n",
        "    else:\n",
        "        preco_final = calcular_preco_final(preco_original, porcentagem_desconto)\n",
        "        print(f\"O preço final após um desconto de {porcentagem_desconto:.2f}% é: R${preco_final:.2f}.\")\n",
        "except ValueError:\n",
        "    print(\"Entrada inválida. Por favor, insira valores numéricos válidos.\")\n"
      ],
      "metadata": {
        "colab": {
          "base_uri": "https://localhost:8080/"
        },
        "id": "pwvpUoIzq0SG",
        "outputId": "311f3d68-08b4-45ce-ac94-5c6a9c4051e2"
      },
      "execution_count": 50,
      "outputs": [
        {
          "output_type": "stream",
          "name": "stdout",
          "text": [
            "Digite o preço original do produto: R$100\n",
            "Digite a porcentagem de desconto: 10\n",
            "O preço final após um desconto de 10.00% é: R$90.00.\n"
          ]
        }
      ]
    },
    {
      "cell_type": "markdown",
      "source": [
        "20. Análise de Dados Simples com Pandas e Matplotlib\n",
        "Enunciado: Utilize o Pandas para carregar um dataset simples, como o conjunto de dados do Titanic ou Iris, disponível na biblioteca seaborn. Realize uma análise básica para calcular estatísticas descritivas, como média e mediana de colunas numéricas. Em seguida, utilize o Matplotlib para criar gráficos simples (como histogramas ou gráficos de barras) que visualizem algumas dessas estatísticas ou distribuições.\n",
        "\n",
        "EXPLICAÇÃO:\n",
        "- Importações:\n",
        "pandas para manipulação de dados; seaborn para carregar o conjunto de dados Iris e criar gráficos; matplotlib.pyplot para criar e exibir gráficos.\n",
        "\n",
        "- Carregamento do Conjunto de Dados:\n",
        "Usa sns.load_dataset('iris') para carregar o conjunto de dados Iris em um DataFrame do Pandas.\n",
        "\n",
        "- Exibição de Dados:\n",
        "Usa df.head() para mostrar as primeiras linhas do DataFrame.\n",
        "Usa df.describe() para calcular estatísticas descritivas básicas das colunas numéricas.\n",
        "\n",
        "- Criação de Gráficos:\n",
        "Cria um histograma para a distribuição da largura das pétalas (petal_width).\n",
        "Cria um gráfico de barras para mostrar a contagem de cada espécie (species).\n",
        "\n",
        "- Exibição dos Gráficos:\n",
        "Usa plt.tight_layout() para ajustar o layout dos gráficos.\n",
        "Usa plt.show() para exibir os gráficos."
      ],
      "metadata": {
        "id": "-JPqfAVqrE1u"
      }
    },
    {
      "cell_type": "code",
      "source": [
        "import pandas as pd\n",
        "import seaborn as sns\n",
        "import matplotlib.pyplot as plt\n",
        "\n",
        "df = sns.load_dataset('iris')\n",
        "\n",
        "print(\"Primeiras linhas do conjunto de dados:\")\n",
        "print(df.head())\n",
        "\n",
        "print(\"\\nEstatísticas descritivas:\")\n",
        "print(df.describe())\n",
        "\n",
        "plt.figure(figsize=(10, 5))\n",
        "\n",
        "plt.subplot(1, 2, 1)\n",
        "plt.hist(df['petal_width'], bins=20, edgecolor='k', alpha=0.7)\n",
        "plt.title('Distribuição da Largura das Pétalas')\n",
        "plt.xlabel('Largura das Pétalas')\n",
        "plt.ylabel('Frequência')\n",
        "\n",
        "plt.subplot(1, 2, 2)\n",
        "df['species'].value_counts().plot(kind='bar', color=['skyblue', 'lightgreen', 'salmon'])\n",
        "plt.title('Contagem das Espécies')\n",
        "plt.xlabel('Espécie')\n",
        "plt.ylabel('Contagem')\n",
        "\n",
        "plt.tight_layout()\n",
        "plt.show()\n"
      ],
      "metadata": {
        "colab": {
          "base_uri": "https://localhost:8080/",
          "height": 819
        },
        "id": "xfuvXzMproZP",
        "outputId": "a111fd96-7c2b-404d-ef36-06ed008dd42d"
      },
      "execution_count": 52,
      "outputs": [
        {
          "output_type": "stream",
          "name": "stdout",
          "text": [
            "Primeiras linhas do conjunto de dados:\n",
            "   sepal_length  sepal_width  petal_length  petal_width species\n",
            "0           5.1          3.5           1.4          0.2  setosa\n",
            "1           4.9          3.0           1.4          0.2  setosa\n",
            "2           4.7          3.2           1.3          0.2  setosa\n",
            "3           4.6          3.1           1.5          0.2  setosa\n",
            "4           5.0          3.6           1.4          0.2  setosa\n",
            "\n",
            "Estatísticas descritivas:\n",
            "       sepal_length  sepal_width  petal_length  petal_width\n",
            "count    150.000000   150.000000    150.000000   150.000000\n",
            "mean       5.843333     3.057333      3.758000     1.199333\n",
            "std        0.828066     0.435866      1.765298     0.762238\n",
            "min        4.300000     2.000000      1.000000     0.100000\n",
            "25%        5.100000     2.800000      1.600000     0.300000\n",
            "50%        5.800000     3.000000      4.350000     1.300000\n",
            "75%        6.400000     3.300000      5.100000     1.800000\n",
            "max        7.900000     4.400000      6.900000     2.500000\n"
          ]
        },
        {
          "output_type": "display_data",
          "data": {
            "text/plain": [
              "<Figure size 1000x500 with 2 Axes>"
            ],
            "image/png": "[encoded data removed]"
          },
          "metadata": {}
        }
      ]
    }
  ]
}